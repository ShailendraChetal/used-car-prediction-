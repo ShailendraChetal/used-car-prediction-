{
 "cells": [
  {
   "cell_type": "markdown",
   "id": "03c8f52c",
   "metadata": {},
   "source": [
    "### SWIPECAR"
   ]
  },
  {
   "cell_type": "raw",
   "id": "f685caf9",
   "metadata": {},
   "source": [
    "Company Introduction\n",
    "\n",
    "SWIPECAR, is an American company that buys and sells second hand cars.\n",
    "They initiated their business in the late 80s and have gained huge popularity over the years.\n",
    "The company clients are local and foreign customers who seek to buy and sell second hand cars.\n",
    "\n",
    "Current Scenario\n",
    "\n",
    "Company has started facing loss in business due to the technical advancements.\n",
    "There are several competitors in the market who have been using enhanced techniques.\n",
    "The company is pretty old and they have been using traditional measures to estimate old cars prices.\n",
    "These traditional measures include weight analysis, condition of parts and build year.\n",
    "They are looking for a more robust way to estimate the price of old cars.\n",
    "\n",
    "Problem Statement\n",
    "\n",
    "The current process suffers from the following problems:\n",
    "\n",
    "They have been using manual traditional measures to estimate old cars prices.\n",
    "These measures are time consuming and not accurate.\n",
    "Company is looking for a robust way to estimate the prices of used cars.\n",
    "\n",
    "Recently they got to know about data scientists who help businesses to sort out such issues.They decided to hire a team of data scientists. Consider you are one of them.\n",
    "\n",
    "Our Role\n",
    "We will be given a set of data to predict the prices of used cars based on their features.\n",
    "We need to find an automated way to get rid of their manual work.\n",
    "Our task is to build a regression model using the provided data.\n",
    "\n",
    "Project Deliverables\n",
    "Deliverable: Predict the prices of used cars.\n",
    "Machine Learning Task: Regression\n",
    "Target Variable: Price\n",
    "Win Condition: N/A (best possible model)\n",
    "\n",
    "Evaluation Metric\n",
    "The model evaluation will be based on the RMSE score."
   ]
  },
  {
   "cell_type": "code",
   "execution_count": 1,
   "id": "cf992724",
   "metadata": {},
   "outputs": [],
   "source": [
    "import numpy as np\n",
    "import pandas as pd\n",
    "import matplotlib.pyplot as plt\n",
    "import seaborn as sns\n",
    "%matplotlib inline\n",
    "from matplotlib.pyplot import xticks\n",
    "import warnings\n",
    "warnings.filterwarnings('ignore')"
   ]
  },
  {
   "cell_type": "code",
   "execution_count": 2,
   "id": "5d1725d1",
   "metadata": {},
   "outputs": [
    {
     "data": {
      "text/html": [
       "<div>\n",
       "<style scoped>\n",
       "    .dataframe tbody tr th:only-of-type {\n",
       "        vertical-align: middle;\n",
       "    }\n",
       "\n",
       "    .dataframe tbody tr th {\n",
       "        vertical-align: top;\n",
       "    }\n",
       "\n",
       "    .dataframe thead th {\n",
       "        text-align: right;\n",
       "    }\n",
       "</style>\n",
       "<table border=\"1\" class=\"dataframe\">\n",
       "  <thead>\n",
       "    <tr style=\"text-align: right;\">\n",
       "      <th></th>\n",
       "      <th>0</th>\n",
       "      <th>1</th>\n",
       "      <th>2</th>\n",
       "      <th>3</th>\n",
       "      <th>4</th>\n",
       "    </tr>\n",
       "  </thead>\n",
       "  <tbody>\n",
       "    <tr>\n",
       "      <th>ID</th>\n",
       "      <td>1</td>\n",
       "      <td>2</td>\n",
       "      <td>3</td>\n",
       "      <td>4</td>\n",
       "      <td>5</td>\n",
       "    </tr>\n",
       "    <tr>\n",
       "      <th>symboling</th>\n",
       "      <td>-1</td>\n",
       "      <td>0</td>\n",
       "      <td>0</td>\n",
       "      <td>0</td>\n",
       "      <td>-2</td>\n",
       "    </tr>\n",
       "    <tr>\n",
       "      <th>normalized-losses</th>\n",
       "      <td>65</td>\n",
       "      <td>188</td>\n",
       "      <td>?</td>\n",
       "      <td>161</td>\n",
       "      <td>103</td>\n",
       "    </tr>\n",
       "    <tr>\n",
       "      <th>make</th>\n",
       "      <td>toyota</td>\n",
       "      <td>bmw</td>\n",
       "      <td>renault</td>\n",
       "      <td>peugot</td>\n",
       "      <td>volvo</td>\n",
       "    </tr>\n",
       "    <tr>\n",
       "      <th>fuel-type</th>\n",
       "      <td>gas</td>\n",
       "      <td>gas</td>\n",
       "      <td>gas</td>\n",
       "      <td>diesel</td>\n",
       "      <td>gas</td>\n",
       "    </tr>\n",
       "    <tr>\n",
       "      <th>aspiration</th>\n",
       "      <td>std</td>\n",
       "      <td>std</td>\n",
       "      <td>std</td>\n",
       "      <td>turbo</td>\n",
       "      <td>std</td>\n",
       "    </tr>\n",
       "    <tr>\n",
       "      <th>num-of-doors</th>\n",
       "      <td>four</td>\n",
       "      <td>two</td>\n",
       "      <td>four</td>\n",
       "      <td>four</td>\n",
       "      <td>four</td>\n",
       "    </tr>\n",
       "    <tr>\n",
       "      <th>body-style</th>\n",
       "      <td>hatchback</td>\n",
       "      <td>sedan</td>\n",
       "      <td>wagon</td>\n",
       "      <td>sedan</td>\n",
       "      <td>sedan</td>\n",
       "    </tr>\n",
       "    <tr>\n",
       "      <th>drive-wheels</th>\n",
       "      <td>fwd</td>\n",
       "      <td>rwd</td>\n",
       "      <td>fwd</td>\n",
       "      <td>rwd</td>\n",
       "      <td>rwd</td>\n",
       "    </tr>\n",
       "    <tr>\n",
       "      <th>engine-location</th>\n",
       "      <td>front</td>\n",
       "      <td>front</td>\n",
       "      <td>front</td>\n",
       "      <td>front</td>\n",
       "      <td>front</td>\n",
       "    </tr>\n",
       "    <tr>\n",
       "      <th>wheel-base</th>\n",
       "      <td>102.4</td>\n",
       "      <td>101.2</td>\n",
       "      <td>96.1</td>\n",
       "      <td>107.9</td>\n",
       "      <td>104.3</td>\n",
       "    </tr>\n",
       "    <tr>\n",
       "      <th>length</th>\n",
       "      <td>175.6</td>\n",
       "      <td>176.8</td>\n",
       "      <td>181.5</td>\n",
       "      <td>186.7</td>\n",
       "      <td>188.8</td>\n",
       "    </tr>\n",
       "    <tr>\n",
       "      <th>width</th>\n",
       "      <td>66.5</td>\n",
       "      <td>64.8</td>\n",
       "      <td>66.5</td>\n",
       "      <td>68.4</td>\n",
       "      <td>67.2</td>\n",
       "    </tr>\n",
       "    <tr>\n",
       "      <th>height</th>\n",
       "      <td>53.9</td>\n",
       "      <td>54.3</td>\n",
       "      <td>55.2</td>\n",
       "      <td>56.7</td>\n",
       "      <td>56.2</td>\n",
       "    </tr>\n",
       "    <tr>\n",
       "      <th>curb-weight</th>\n",
       "      <td>2458</td>\n",
       "      <td>2710</td>\n",
       "      <td>2579</td>\n",
       "      <td>3197</td>\n",
       "      <td>2935</td>\n",
       "    </tr>\n",
       "    <tr>\n",
       "      <th>engine-type</th>\n",
       "      <td>ohc</td>\n",
       "      <td>ohc</td>\n",
       "      <td>ohc</td>\n",
       "      <td>l</td>\n",
       "      <td>ohc</td>\n",
       "    </tr>\n",
       "    <tr>\n",
       "      <th>num-of-cylinders</th>\n",
       "      <td>four</td>\n",
       "      <td>six</td>\n",
       "      <td>four</td>\n",
       "      <td>four</td>\n",
       "      <td>four</td>\n",
       "    </tr>\n",
       "    <tr>\n",
       "      <th>engine-size</th>\n",
       "      <td>122</td>\n",
       "      <td>164</td>\n",
       "      <td>132</td>\n",
       "      <td>152</td>\n",
       "      <td>141</td>\n",
       "    </tr>\n",
       "    <tr>\n",
       "      <th>fuel-system</th>\n",
       "      <td>mpfi</td>\n",
       "      <td>mpfi</td>\n",
       "      <td>mpfi</td>\n",
       "      <td>idi</td>\n",
       "      <td>mpfi</td>\n",
       "    </tr>\n",
       "    <tr>\n",
       "      <th>bore</th>\n",
       "      <td>3.31</td>\n",
       "      <td>3.31</td>\n",
       "      <td>3.46</td>\n",
       "      <td>3.7</td>\n",
       "      <td>3.78</td>\n",
       "    </tr>\n",
       "    <tr>\n",
       "      <th>stroke</th>\n",
       "      <td>3.54</td>\n",
       "      <td>3.19</td>\n",
       "      <td>3.9</td>\n",
       "      <td>3.52</td>\n",
       "      <td>3.15</td>\n",
       "    </tr>\n",
       "    <tr>\n",
       "      <th>compression-ratio</th>\n",
       "      <td>8.7</td>\n",
       "      <td>9.0</td>\n",
       "      <td>8.7</td>\n",
       "      <td>21.0</td>\n",
       "      <td>9.5</td>\n",
       "    </tr>\n",
       "    <tr>\n",
       "      <th>horsepower</th>\n",
       "      <td>92</td>\n",
       "      <td>121</td>\n",
       "      <td>?</td>\n",
       "      <td>95</td>\n",
       "      <td>114</td>\n",
       "    </tr>\n",
       "    <tr>\n",
       "      <th>peak-rpm</th>\n",
       "      <td>4200</td>\n",
       "      <td>4250</td>\n",
       "      <td>?</td>\n",
       "      <td>4150</td>\n",
       "      <td>5400</td>\n",
       "    </tr>\n",
       "    <tr>\n",
       "      <th>city-mpg</th>\n",
       "      <td>27</td>\n",
       "      <td>21</td>\n",
       "      <td>23</td>\n",
       "      <td>28</td>\n",
       "      <td>24</td>\n",
       "    </tr>\n",
       "    <tr>\n",
       "      <th>highway-mpg</th>\n",
       "      <td>32</td>\n",
       "      <td>28</td>\n",
       "      <td>31</td>\n",
       "      <td>33</td>\n",
       "      <td>28</td>\n",
       "    </tr>\n",
       "    <tr>\n",
       "      <th>price</th>\n",
       "      <td>11248</td>\n",
       "      <td>20970</td>\n",
       "      <td>9295</td>\n",
       "      <td>13200</td>\n",
       "      <td>15985</td>\n",
       "    </tr>\n",
       "  </tbody>\n",
       "</table>\n",
       "</div>"
      ],
      "text/plain": [
       "                           0      1        2       3      4\n",
       "ID                         1      2        3       4      5\n",
       "symboling                 -1      0        0       0     -2\n",
       "normalized-losses         65    188        ?     161    103\n",
       "make                  toyota    bmw  renault  peugot  volvo\n",
       "fuel-type                gas    gas      gas  diesel    gas\n",
       "aspiration               std    std      std   turbo    std\n",
       "num-of-doors            four    two     four    four   four\n",
       "body-style         hatchback  sedan    wagon   sedan  sedan\n",
       "drive-wheels             fwd    rwd      fwd     rwd    rwd\n",
       "engine-location        front  front    front   front  front\n",
       "wheel-base             102.4  101.2     96.1   107.9  104.3\n",
       "length                 175.6  176.8    181.5   186.7  188.8\n",
       "width                   66.5   64.8     66.5    68.4   67.2\n",
       "height                  53.9   54.3     55.2    56.7   56.2\n",
       "curb-weight             2458   2710     2579    3197   2935\n",
       "engine-type              ohc    ohc      ohc       l    ohc\n",
       "num-of-cylinders        four    six     four    four   four\n",
       "engine-size              122    164      132     152    141\n",
       "fuel-system             mpfi   mpfi     mpfi     idi   mpfi\n",
       "bore                    3.31   3.31     3.46     3.7   3.78\n",
       "stroke                  3.54   3.19      3.9    3.52   3.15\n",
       "compression-ratio        8.7    9.0      8.7    21.0    9.5\n",
       "horsepower                92    121        ?      95    114\n",
       "peak-rpm                4200   4250        ?    4150   5400\n",
       "city-mpg                  27     21       23      28     24\n",
       "highway-mpg               32     28       31      33     28\n",
       "price                  11248  20970     9295   13200  15985"
      ]
     },
     "execution_count": 2,
     "metadata": {},
     "output_type": "execute_result"
    }
   ],
   "source": [
    "train_data = pd.read_csv('TrainData.csv')\n",
    "train_data.head().T"
   ]
  },
  {
   "cell_type": "code",
   "execution_count": 3,
   "id": "511d3c4b",
   "metadata": {},
   "outputs": [
    {
     "data": {
      "text/html": [
       "<div>\n",
       "<style scoped>\n",
       "    .dataframe tbody tr th:only-of-type {\n",
       "        vertical-align: middle;\n",
       "    }\n",
       "\n",
       "    .dataframe tbody tr th {\n",
       "        vertical-align: top;\n",
       "    }\n",
       "\n",
       "    .dataframe thead th {\n",
       "        text-align: right;\n",
       "    }\n",
       "</style>\n",
       "<table border=\"1\" class=\"dataframe\">\n",
       "  <thead>\n",
       "    <tr style=\"text-align: right;\">\n",
       "      <th></th>\n",
       "      <th>ID</th>\n",
       "      <th>symboling</th>\n",
       "      <th>normalized-losses</th>\n",
       "      <th>make</th>\n",
       "      <th>fuel-type</th>\n",
       "      <th>aspiration</th>\n",
       "      <th>num-of-doors</th>\n",
       "      <th>body-style</th>\n",
       "      <th>drive-wheels</th>\n",
       "      <th>engine-location</th>\n",
       "      <th>...</th>\n",
       "      <th>engine-size</th>\n",
       "      <th>fuel-system</th>\n",
       "      <th>bore</th>\n",
       "      <th>stroke</th>\n",
       "      <th>compression-ratio</th>\n",
       "      <th>horsepower</th>\n",
       "      <th>peak-rpm</th>\n",
       "      <th>city-mpg</th>\n",
       "      <th>highway-mpg</th>\n",
       "      <th>price</th>\n",
       "    </tr>\n",
       "  </thead>\n",
       "  <tbody>\n",
       "    <tr>\n",
       "      <th>176</th>\n",
       "      <td>177</td>\n",
       "      <td>1</td>\n",
       "      <td>129</td>\n",
       "      <td>mazda</td>\n",
       "      <td>gas</td>\n",
       "      <td>std</td>\n",
       "      <td>two</td>\n",
       "      <td>hatchback</td>\n",
       "      <td>fwd</td>\n",
       "      <td>front</td>\n",
       "      <td>...</td>\n",
       "      <td>122</td>\n",
       "      <td>2bbl</td>\n",
       "      <td>3.39</td>\n",
       "      <td>3.39</td>\n",
       "      <td>8.6</td>\n",
       "      <td>84</td>\n",
       "      <td>4800</td>\n",
       "      <td>26</td>\n",
       "      <td>32</td>\n",
       "      <td>10595</td>\n",
       "    </tr>\n",
       "    <tr>\n",
       "      <th>177</th>\n",
       "      <td>178</td>\n",
       "      <td>1</td>\n",
       "      <td>113</td>\n",
       "      <td>mazda</td>\n",
       "      <td>gas</td>\n",
       "      <td>std</td>\n",
       "      <td>four</td>\n",
       "      <td>sedan</td>\n",
       "      <td>fwd</td>\n",
       "      <td>front</td>\n",
       "      <td>...</td>\n",
       "      <td>91</td>\n",
       "      <td>2bbl</td>\n",
       "      <td>3.08</td>\n",
       "      <td>3.15</td>\n",
       "      <td>9.0</td>\n",
       "      <td>68</td>\n",
       "      <td>5000</td>\n",
       "      <td>31</td>\n",
       "      <td>38</td>\n",
       "      <td>7395</td>\n",
       "    </tr>\n",
       "    <tr>\n",
       "      <th>178</th>\n",
       "      <td>179</td>\n",
       "      <td>1</td>\n",
       "      <td>119</td>\n",
       "      <td>plymouth</td>\n",
       "      <td>gas</td>\n",
       "      <td>std</td>\n",
       "      <td>two</td>\n",
       "      <td>hatchback</td>\n",
       "      <td>fwd</td>\n",
       "      <td>front</td>\n",
       "      <td>...</td>\n",
       "      <td>90</td>\n",
       "      <td>2bbl</td>\n",
       "      <td>2.97</td>\n",
       "      <td>3.23</td>\n",
       "      <td>9.4</td>\n",
       "      <td>68</td>\n",
       "      <td>5500</td>\n",
       "      <td>37</td>\n",
       "      <td>41</td>\n",
       "      <td>5572</td>\n",
       "    </tr>\n",
       "    <tr>\n",
       "      <th>179</th>\n",
       "      <td>180</td>\n",
       "      <td>3</td>\n",
       "      <td>?</td>\n",
       "      <td>alfa-romero</td>\n",
       "      <td>gas</td>\n",
       "      <td>std</td>\n",
       "      <td>two</td>\n",
       "      <td>convertible</td>\n",
       "      <td>rwd</td>\n",
       "      <td>front</td>\n",
       "      <td>...</td>\n",
       "      <td>130</td>\n",
       "      <td>mpfi</td>\n",
       "      <td>3.47</td>\n",
       "      <td>2.68</td>\n",
       "      <td>9.0</td>\n",
       "      <td>111</td>\n",
       "      <td>5000</td>\n",
       "      <td>21</td>\n",
       "      <td>27</td>\n",
       "      <td>16500</td>\n",
       "    </tr>\n",
       "    <tr>\n",
       "      <th>180</th>\n",
       "      <td>181</td>\n",
       "      <td>-1</td>\n",
       "      <td>?</td>\n",
       "      <td>toyota</td>\n",
       "      <td>gas</td>\n",
       "      <td>std</td>\n",
       "      <td>four</td>\n",
       "      <td>wagon</td>\n",
       "      <td>rwd</td>\n",
       "      <td>front</td>\n",
       "      <td>...</td>\n",
       "      <td>161</td>\n",
       "      <td>mpfi</td>\n",
       "      <td>3.27</td>\n",
       "      <td>3.35</td>\n",
       "      <td>9.2</td>\n",
       "      <td>156</td>\n",
       "      <td>5200</td>\n",
       "      <td>19</td>\n",
       "      <td>24</td>\n",
       "      <td>15750</td>\n",
       "    </tr>\n",
       "  </tbody>\n",
       "</table>\n",
       "<p>5 rows × 27 columns</p>\n",
       "</div>"
      ],
      "text/plain": [
       "      ID  symboling normalized-losses         make fuel-type aspiration  \\\n",
       "176  177          1               129        mazda       gas        std   \n",
       "177  178          1               113        mazda       gas        std   \n",
       "178  179          1               119     plymouth       gas        std   \n",
       "179  180          3                 ?  alfa-romero       gas        std   \n",
       "180  181         -1                 ?       toyota       gas        std   \n",
       "\n",
       "    num-of-doors   body-style drive-wheels engine-location  ...  engine-size  \\\n",
       "176          two    hatchback          fwd           front  ...          122   \n",
       "177         four        sedan          fwd           front  ...           91   \n",
       "178          two    hatchback          fwd           front  ...           90   \n",
       "179          two  convertible          rwd           front  ...          130   \n",
       "180         four        wagon          rwd           front  ...          161   \n",
       "\n",
       "     fuel-system  bore  stroke  compression-ratio horsepower peak-rpm  \\\n",
       "176         2bbl  3.39    3.39                8.6         84     4800   \n",
       "177         2bbl  3.08    3.15                9.0         68     5000   \n",
       "178         2bbl  2.97    3.23                9.4         68     5500   \n",
       "179         mpfi  3.47    2.68                9.0        111     5000   \n",
       "180         mpfi  3.27    3.35                9.2        156     5200   \n",
       "\n",
       "     city-mpg highway-mpg  price  \n",
       "176        26          32  10595  \n",
       "177        31          38   7395  \n",
       "178        37          41   5572  \n",
       "179        21          27  16500  \n",
       "180        19          24  15750  \n",
       "\n",
       "[5 rows x 27 columns]"
      ]
     },
     "execution_count": 3,
     "metadata": {},
     "output_type": "execute_result"
    }
   ],
   "source": [
    "train_data.tail()"
   ]
  },
  {
   "cell_type": "code",
   "execution_count": 4,
   "id": "2ce9451e",
   "metadata": {},
   "outputs": [
    {
     "data": {
      "text/html": [
       "<div>\n",
       "<style scoped>\n",
       "    .dataframe tbody tr th:only-of-type {\n",
       "        vertical-align: middle;\n",
       "    }\n",
       "\n",
       "    .dataframe tbody tr th {\n",
       "        vertical-align: top;\n",
       "    }\n",
       "\n",
       "    .dataframe thead th {\n",
       "        text-align: right;\n",
       "    }\n",
       "</style>\n",
       "<table border=\"1\" class=\"dataframe\">\n",
       "  <thead>\n",
       "    <tr style=\"text-align: right;\">\n",
       "      <th></th>\n",
       "      <th>ID</th>\n",
       "      <th>symboling</th>\n",
       "      <th>normalized-losses</th>\n",
       "      <th>make</th>\n",
       "      <th>fuel-type</th>\n",
       "      <th>aspiration</th>\n",
       "      <th>num-of-doors</th>\n",
       "      <th>body-style</th>\n",
       "      <th>drive-wheels</th>\n",
       "      <th>engine-location</th>\n",
       "      <th>...</th>\n",
       "      <th>num-of-cylinders</th>\n",
       "      <th>engine-size</th>\n",
       "      <th>fuel-system</th>\n",
       "      <th>bore</th>\n",
       "      <th>stroke</th>\n",
       "      <th>compression-ratio</th>\n",
       "      <th>horsepower</th>\n",
       "      <th>peak-rpm</th>\n",
       "      <th>city-mpg</th>\n",
       "      <th>highway-mpg</th>\n",
       "    </tr>\n",
       "  </thead>\n",
       "  <tbody>\n",
       "    <tr>\n",
       "      <th>0</th>\n",
       "      <td>1</td>\n",
       "      <td>-2</td>\n",
       "      <td>103</td>\n",
       "      <td>volvo</td>\n",
       "      <td>gas</td>\n",
       "      <td>std</td>\n",
       "      <td>four</td>\n",
       "      <td>sedan</td>\n",
       "      <td>rwd</td>\n",
       "      <td>front</td>\n",
       "      <td>...</td>\n",
       "      <td>four</td>\n",
       "      <td>141</td>\n",
       "      <td>mpfi</td>\n",
       "      <td>3.78</td>\n",
       "      <td>3.15</td>\n",
       "      <td>9.5</td>\n",
       "      <td>114</td>\n",
       "      <td>5400</td>\n",
       "      <td>23</td>\n",
       "      <td>28</td>\n",
       "    </tr>\n",
       "    <tr>\n",
       "      <th>1</th>\n",
       "      <td>2</td>\n",
       "      <td>0</td>\n",
       "      <td>188</td>\n",
       "      <td>bmw</td>\n",
       "      <td>gas</td>\n",
       "      <td>std</td>\n",
       "      <td>four</td>\n",
       "      <td>sedan</td>\n",
       "      <td>rwd</td>\n",
       "      <td>front</td>\n",
       "      <td>...</td>\n",
       "      <td>six</td>\n",
       "      <td>164</td>\n",
       "      <td>mpfi</td>\n",
       "      <td>3.31</td>\n",
       "      <td>3.19</td>\n",
       "      <td>9.0</td>\n",
       "      <td>121</td>\n",
       "      <td>4250</td>\n",
       "      <td>21</td>\n",
       "      <td>28</td>\n",
       "    </tr>\n",
       "    <tr>\n",
       "      <th>2</th>\n",
       "      <td>3</td>\n",
       "      <td>-1</td>\n",
       "      <td>74</td>\n",
       "      <td>volvo</td>\n",
       "      <td>gas</td>\n",
       "      <td>turbo</td>\n",
       "      <td>four</td>\n",
       "      <td>wagon</td>\n",
       "      <td>rwd</td>\n",
       "      <td>front</td>\n",
       "      <td>...</td>\n",
       "      <td>four</td>\n",
       "      <td>130</td>\n",
       "      <td>mpfi</td>\n",
       "      <td>3.62</td>\n",
       "      <td>3.15</td>\n",
       "      <td>7.5</td>\n",
       "      <td>162</td>\n",
       "      <td>5100</td>\n",
       "      <td>17</td>\n",
       "      <td>22</td>\n",
       "    </tr>\n",
       "    <tr>\n",
       "      <th>3</th>\n",
       "      <td>4</td>\n",
       "      <td>1</td>\n",
       "      <td>154</td>\n",
       "      <td>plymouth</td>\n",
       "      <td>gas</td>\n",
       "      <td>std</td>\n",
       "      <td>four</td>\n",
       "      <td>sedan</td>\n",
       "      <td>fwd</td>\n",
       "      <td>front</td>\n",
       "      <td>...</td>\n",
       "      <td>four</td>\n",
       "      <td>90</td>\n",
       "      <td>2bbl</td>\n",
       "      <td>2.97</td>\n",
       "      <td>3.23</td>\n",
       "      <td>9.4</td>\n",
       "      <td>68</td>\n",
       "      <td>5500</td>\n",
       "      <td>31</td>\n",
       "      <td>38</td>\n",
       "    </tr>\n",
       "    <tr>\n",
       "      <th>4</th>\n",
       "      <td>5</td>\n",
       "      <td>1</td>\n",
       "      <td>103</td>\n",
       "      <td>nissan</td>\n",
       "      <td>gas</td>\n",
       "      <td>std</td>\n",
       "      <td>four</td>\n",
       "      <td>wagon</td>\n",
       "      <td>fwd</td>\n",
       "      <td>front</td>\n",
       "      <td>...</td>\n",
       "      <td>four</td>\n",
       "      <td>97</td>\n",
       "      <td>2bbl</td>\n",
       "      <td>3.15</td>\n",
       "      <td>3.29</td>\n",
       "      <td>9.4</td>\n",
       "      <td>69</td>\n",
       "      <td>5200</td>\n",
       "      <td>31</td>\n",
       "      <td>37</td>\n",
       "    </tr>\n",
       "  </tbody>\n",
       "</table>\n",
       "<p>5 rows × 26 columns</p>\n",
       "</div>"
      ],
      "text/plain": [
       "   ID  symboling normalized-losses      make fuel-type aspiration  \\\n",
       "0   1         -2               103     volvo       gas        std   \n",
       "1   2          0               188       bmw       gas        std   \n",
       "2   3         -1                74     volvo       gas      turbo   \n",
       "3   4          1               154  plymouth       gas        std   \n",
       "4   5          1               103    nissan       gas        std   \n",
       "\n",
       "  num-of-doors body-style drive-wheels engine-location  ...  num-of-cylinders  \\\n",
       "0         four      sedan          rwd           front  ...              four   \n",
       "1         four      sedan          rwd           front  ...               six   \n",
       "2         four      wagon          rwd           front  ...              four   \n",
       "3         four      sedan          fwd           front  ...              four   \n",
       "4         four      wagon          fwd           front  ...              four   \n",
       "\n",
       "   engine-size  fuel-system  bore  stroke compression-ratio horsepower  \\\n",
       "0          141         mpfi  3.78    3.15               9.5        114   \n",
       "1          164         mpfi  3.31    3.19               9.0        121   \n",
       "2          130         mpfi  3.62    3.15               7.5        162   \n",
       "3           90         2bbl  2.97    3.23               9.4         68   \n",
       "4           97         2bbl  3.15    3.29               9.4         69   \n",
       "\n",
       "   peak-rpm city-mpg  highway-mpg  \n",
       "0      5400       23           28  \n",
       "1      4250       21           28  \n",
       "2      5100       17           22  \n",
       "3      5500       31           38  \n",
       "4      5200       31           37  \n",
       "\n",
       "[5 rows x 26 columns]"
      ]
     },
     "execution_count": 4,
     "metadata": {},
     "output_type": "execute_result"
    }
   ],
   "source": [
    "test_data = pd.read_csv('TestData.csv')\n",
    "test_data.head()"
   ]
  },
  {
   "cell_type": "code",
   "execution_count": 5,
   "id": "9c92c368",
   "metadata": {},
   "outputs": [
    {
     "data": {
      "text/html": [
       "<div>\n",
       "<style scoped>\n",
       "    .dataframe tbody tr th:only-of-type {\n",
       "        vertical-align: middle;\n",
       "    }\n",
       "\n",
       "    .dataframe tbody tr th {\n",
       "        vertical-align: top;\n",
       "    }\n",
       "\n",
       "    .dataframe thead th {\n",
       "        text-align: right;\n",
       "    }\n",
       "</style>\n",
       "<table border=\"1\" class=\"dataframe\">\n",
       "  <thead>\n",
       "    <tr style=\"text-align: right;\">\n",
       "      <th></th>\n",
       "      <th>ID</th>\n",
       "      <th>symboling</th>\n",
       "      <th>normalized-losses</th>\n",
       "      <th>make</th>\n",
       "      <th>fuel-type</th>\n",
       "      <th>aspiration</th>\n",
       "      <th>num-of-doors</th>\n",
       "      <th>body-style</th>\n",
       "      <th>drive-wheels</th>\n",
       "      <th>engine-location</th>\n",
       "      <th>...</th>\n",
       "      <th>num-of-cylinders</th>\n",
       "      <th>engine-size</th>\n",
       "      <th>fuel-system</th>\n",
       "      <th>bore</th>\n",
       "      <th>stroke</th>\n",
       "      <th>compression-ratio</th>\n",
       "      <th>horsepower</th>\n",
       "      <th>peak-rpm</th>\n",
       "      <th>city-mpg</th>\n",
       "      <th>highway-mpg</th>\n",
       "    </tr>\n",
       "  </thead>\n",
       "  <tbody>\n",
       "    <tr>\n",
       "      <th>15</th>\n",
       "      <td>16</td>\n",
       "      <td>0</td>\n",
       "      <td>?</td>\n",
       "      <td>bmw</td>\n",
       "      <td>gas</td>\n",
       "      <td>std</td>\n",
       "      <td>four</td>\n",
       "      <td>sedan</td>\n",
       "      <td>rwd</td>\n",
       "      <td>front</td>\n",
       "      <td>...</td>\n",
       "      <td>six</td>\n",
       "      <td>209</td>\n",
       "      <td>mpfi</td>\n",
       "      <td>3.62</td>\n",
       "      <td>3.39</td>\n",
       "      <td>8.0</td>\n",
       "      <td>182</td>\n",
       "      <td>5400</td>\n",
       "      <td>16</td>\n",
       "      <td>22</td>\n",
       "    </tr>\n",
       "    <tr>\n",
       "      <th>16</th>\n",
       "      <td>17</td>\n",
       "      <td>1</td>\n",
       "      <td>168</td>\n",
       "      <td>toyota</td>\n",
       "      <td>gas</td>\n",
       "      <td>std</td>\n",
       "      <td>two</td>\n",
       "      <td>hatchback</td>\n",
       "      <td>rwd</td>\n",
       "      <td>front</td>\n",
       "      <td>...</td>\n",
       "      <td>four</td>\n",
       "      <td>98</td>\n",
       "      <td>mpfi</td>\n",
       "      <td>3.24</td>\n",
       "      <td>3.08</td>\n",
       "      <td>9.4</td>\n",
       "      <td>112</td>\n",
       "      <td>6600</td>\n",
       "      <td>26</td>\n",
       "      <td>29</td>\n",
       "    </tr>\n",
       "    <tr>\n",
       "      <th>17</th>\n",
       "      <td>18</td>\n",
       "      <td>0</td>\n",
       "      <td>?</td>\n",
       "      <td>peugot</td>\n",
       "      <td>gas</td>\n",
       "      <td>std</td>\n",
       "      <td>four</td>\n",
       "      <td>wagon</td>\n",
       "      <td>rwd</td>\n",
       "      <td>front</td>\n",
       "      <td>...</td>\n",
       "      <td>four</td>\n",
       "      <td>120</td>\n",
       "      <td>mpfi</td>\n",
       "      <td>3.46</td>\n",
       "      <td>2.19</td>\n",
       "      <td>8.4</td>\n",
       "      <td>95</td>\n",
       "      <td>5000</td>\n",
       "      <td>19</td>\n",
       "      <td>24</td>\n",
       "    </tr>\n",
       "    <tr>\n",
       "      <th>18</th>\n",
       "      <td>19</td>\n",
       "      <td>2</td>\n",
       "      <td>192</td>\n",
       "      <td>bmw</td>\n",
       "      <td>gas</td>\n",
       "      <td>std</td>\n",
       "      <td>two</td>\n",
       "      <td>sedan</td>\n",
       "      <td>rwd</td>\n",
       "      <td>front</td>\n",
       "      <td>...</td>\n",
       "      <td>four</td>\n",
       "      <td>108</td>\n",
       "      <td>mpfi</td>\n",
       "      <td>3.50</td>\n",
       "      <td>2.80</td>\n",
       "      <td>8.8</td>\n",
       "      <td>101</td>\n",
       "      <td>5800</td>\n",
       "      <td>23</td>\n",
       "      <td>29</td>\n",
       "    </tr>\n",
       "    <tr>\n",
       "      <th>19</th>\n",
       "      <td>20</td>\n",
       "      <td>0</td>\n",
       "      <td>91</td>\n",
       "      <td>toyota</td>\n",
       "      <td>diesel</td>\n",
       "      <td>std</td>\n",
       "      <td>four</td>\n",
       "      <td>sedan</td>\n",
       "      <td>fwd</td>\n",
       "      <td>front</td>\n",
       "      <td>...</td>\n",
       "      <td>four</td>\n",
       "      <td>110</td>\n",
       "      <td>idi</td>\n",
       "      <td>3.27</td>\n",
       "      <td>3.35</td>\n",
       "      <td>22.5</td>\n",
       "      <td>56</td>\n",
       "      <td>4500</td>\n",
       "      <td>34</td>\n",
       "      <td>36</td>\n",
       "    </tr>\n",
       "  </tbody>\n",
       "</table>\n",
       "<p>5 rows × 26 columns</p>\n",
       "</div>"
      ],
      "text/plain": [
       "    ID  symboling normalized-losses    make fuel-type aspiration num-of-doors  \\\n",
       "15  16          0                 ?     bmw       gas        std         four   \n",
       "16  17          1               168  toyota       gas        std          two   \n",
       "17  18          0                 ?  peugot       gas        std         four   \n",
       "18  19          2               192     bmw       gas        std          two   \n",
       "19  20          0                91  toyota    diesel        std         four   \n",
       "\n",
       "   body-style drive-wheels engine-location  ...  num-of-cylinders  \\\n",
       "15      sedan          rwd           front  ...               six   \n",
       "16  hatchback          rwd           front  ...              four   \n",
       "17      wagon          rwd           front  ...              four   \n",
       "18      sedan          rwd           front  ...              four   \n",
       "19      sedan          fwd           front  ...              four   \n",
       "\n",
       "    engine-size  fuel-system  bore  stroke compression-ratio horsepower  \\\n",
       "15          209         mpfi  3.62    3.39               8.0        182   \n",
       "16           98         mpfi  3.24    3.08               9.4        112   \n",
       "17          120         mpfi  3.46    2.19               8.4         95   \n",
       "18          108         mpfi  3.50    2.80               8.8        101   \n",
       "19          110          idi  3.27    3.35              22.5         56   \n",
       "\n",
       "    peak-rpm city-mpg  highway-mpg  \n",
       "15      5400       16           22  \n",
       "16      6600       26           29  \n",
       "17      5000       19           24  \n",
       "18      5800       23           29  \n",
       "19      4500       34           36  \n",
       "\n",
       "[5 rows x 26 columns]"
      ]
     },
     "execution_count": 5,
     "metadata": {},
     "output_type": "execute_result"
    }
   ],
   "source": [
    "test_data.tail()"
   ]
  },
  {
   "cell_type": "markdown",
   "id": "a79ceef4",
   "metadata": {},
   "source": [
    "### Dataset statistics"
   ]
  },
  {
   "cell_type": "raw",
   "id": "3331a83d",
   "metadata": {},
   "source": [
    "Number of variables-27\n",
    "Number of observations-181"
   ]
  },
  {
   "cell_type": "markdown",
   "id": "d63cb872",
   "metadata": {},
   "source": [
    "### Variable type"
   ]
  },
  {
   "cell_type": "raw",
   "id": "c5cfc016",
   "metadata": {},
   "source": [
    "Numeric-12\n",
    "Categorical-15"
   ]
  },
  {
   "cell_type": "markdown",
   "id": "003433a4",
   "metadata": {},
   "source": [
    "### Variable Information"
   ]
  },
  {
   "cell_type": "raw",
   "id": "333566af",
   "metadata": {},
   "source": [
    "Variable Information :\n",
    "\n",
    "    ID - Unique Identification of each entries\n",
    "    Symboling - -2 to 3 Range - 5\n",
    "    Normalized-losses - distinct 52. Numerical Has Junk Values (?)\n",
    "    Make - Make of the Model . 22 Models. Highest share is of 28\n",
    "    fuel-type - Gas and Diesel . 90% of car has fuel type as Gas\n",
    "    aspiration - std and turbo . highest is standard 81.2%\n",
    "    numofdoors - Has some junk values 2 doors(42.5%) and 4 Doors(57%)\n",
    "    body-style - 5 Values. Sedan has highest entries followed by wagon & hatchback\n",
    "    drive-wheels - 3 fwd , rwd, 4wd\n",
    "    engine location - front - 178 rear - 3\n",
    "    wheel-base - Min - 87, median- 96.9, Mean - 98.72, Range -34.3 Max -120\n",
    "    length - Min - 141.1, median - 173.2, mean - 174, Range - 67, Max -208\n",
    "    width - Min - 60.3, Median - 65.5 , Mean - 65.94, Range - 11.7, Max - 72\n",
    "    height - Min - 47.8, Median - 54.1, Mean - 53.70, Range - 12, Max - 59.8\n",
    "    curb_weight - Min - 1488, Median - 2420 , Mean - 2564, Range - 2578, Max -4066\n",
    "    eng-type - 6 type , max - ohc\n",
    "    num-of-cylinders - 7 Types , Max - Four\n",
    "    engine-size - Min - 61, median - 120, mean - 127, Range - 265, Max -326\n",
    "    fuel_system - 8 types. Max mpfi - 45%\n",
    "    bore - Need to change it to numerical variable\n",
    "    stroke - Need to change it to numerical variable\n",
    "    compression-ratio - Min - 7, Median - 9, mean - 10.15, Max - 23, Range - 16\n",
    "    horsepower - Need to change to Numerical variable\n",
    "    peak-rpm - Need to be converted to numerical variable\n",
    "    city-mpg - Min - 13, Median - 24, mean - 25.13, Max- 49, range - 36\n",
    "    highway-mpg - Min -16 , Median - 30 , mean - 30, Range -38 , max- 54\n",
    "    Price - Target Variable"
   ]
  },
  {
   "cell_type": "markdown",
   "id": "a2a4c8ce",
   "metadata": {},
   "source": [
    "### Info of the Data"
   ]
  },
  {
   "cell_type": "code",
   "execution_count": 6,
   "id": "11e18f5d",
   "metadata": {},
   "outputs": [
    {
     "name": "stdout",
     "output_type": "stream",
     "text": [
      "<class 'pandas.core.frame.DataFrame'>\n",
      "RangeIndex: 181 entries, 0 to 180\n",
      "Data columns (total 27 columns):\n",
      " #   Column             Non-Null Count  Dtype  \n",
      "---  ------             --------------  -----  \n",
      " 0   ID                 181 non-null    int64  \n",
      " 1   symboling          181 non-null    int64  \n",
      " 2   normalized-losses  181 non-null    object \n",
      " 3   make               181 non-null    object \n",
      " 4   fuel-type          181 non-null    object \n",
      " 5   aspiration         181 non-null    object \n",
      " 6   num-of-doors       181 non-null    object \n",
      " 7   body-style         181 non-null    object \n",
      " 8   drive-wheels       181 non-null    object \n",
      " 9   engine-location    181 non-null    object \n",
      " 10  wheel-base         181 non-null    float64\n",
      " 11  length             181 non-null    float64\n",
      " 12  width              181 non-null    float64\n",
      " 13  height             181 non-null    float64\n",
      " 14  curb-weight        181 non-null    int64  \n",
      " 15  engine-type        181 non-null    object \n",
      " 16  num-of-cylinders   181 non-null    object \n",
      " 17  engine-size        181 non-null    int64  \n",
      " 18  fuel-system        181 non-null    object \n",
      " 19  bore               181 non-null    object \n",
      " 20  stroke             181 non-null    object \n",
      " 21  compression-ratio  181 non-null    float64\n",
      " 22  horsepower         181 non-null    object \n",
      " 23  peak-rpm           181 non-null    object \n",
      " 24  city-mpg           181 non-null    int64  \n",
      " 25  highway-mpg        181 non-null    int64  \n",
      " 26  price              181 non-null    int64  \n",
      "dtypes: float64(5), int64(7), object(15)\n",
      "memory usage: 38.3+ KB\n"
     ]
    }
   ],
   "source": [
    "train_data.info()"
   ]
  },
  {
   "cell_type": "code",
   "execution_count": 7,
   "id": "4014bf17",
   "metadata": {},
   "outputs": [
    {
     "data": {
      "text/html": [
       "<div>\n",
       "<style scoped>\n",
       "    .dataframe tbody tr th:only-of-type {\n",
       "        vertical-align: middle;\n",
       "    }\n",
       "\n",
       "    .dataframe tbody tr th {\n",
       "        vertical-align: top;\n",
       "    }\n",
       "\n",
       "    .dataframe thead th {\n",
       "        text-align: right;\n",
       "    }\n",
       "</style>\n",
       "<table border=\"1\" class=\"dataframe\">\n",
       "  <thead>\n",
       "    <tr style=\"text-align: right;\">\n",
       "      <th></th>\n",
       "      <th>ID</th>\n",
       "      <th>symboling</th>\n",
       "      <th>wheel-base</th>\n",
       "      <th>length</th>\n",
       "      <th>width</th>\n",
       "      <th>height</th>\n",
       "      <th>curb-weight</th>\n",
       "      <th>engine-size</th>\n",
       "      <th>compression-ratio</th>\n",
       "      <th>city-mpg</th>\n",
       "      <th>highway-mpg</th>\n",
       "      <th>price</th>\n",
       "    </tr>\n",
       "  </thead>\n",
       "  <tbody>\n",
       "    <tr>\n",
       "      <th>count</th>\n",
       "      <td>181.000000</td>\n",
       "      <td>181.000000</td>\n",
       "      <td>181.000000</td>\n",
       "      <td>181.000000</td>\n",
       "      <td>181.000000</td>\n",
       "      <td>181.000000</td>\n",
       "      <td>181.000000</td>\n",
       "      <td>181.000000</td>\n",
       "      <td>181.000000</td>\n",
       "      <td>181.000000</td>\n",
       "      <td>181.000000</td>\n",
       "      <td>181.000000</td>\n",
       "    </tr>\n",
       "    <tr>\n",
       "      <th>mean</th>\n",
       "      <td>91.000000</td>\n",
       "      <td>0.850829</td>\n",
       "      <td>98.729282</td>\n",
       "      <td>174.174033</td>\n",
       "      <td>65.943646</td>\n",
       "      <td>53.709945</td>\n",
       "      <td>2564.165746</td>\n",
       "      <td>127.900552</td>\n",
       "      <td>10.154254</td>\n",
       "      <td>25.132597</td>\n",
       "      <td>30.646409</td>\n",
       "      <td>13271.314917</td>\n",
       "    </tr>\n",
       "    <tr>\n",
       "      <th>std</th>\n",
       "      <td>52.394338</td>\n",
       "      <td>1.267045</td>\n",
       "      <td>6.116197</td>\n",
       "      <td>12.336569</td>\n",
       "      <td>2.146114</td>\n",
       "      <td>2.497735</td>\n",
       "      <td>523.489016</td>\n",
       "      <td>42.578438</td>\n",
       "      <td>3.982306</td>\n",
       "      <td>6.418211</td>\n",
       "      <td>6.888545</td>\n",
       "      <td>8106.479635</td>\n",
       "    </tr>\n",
       "    <tr>\n",
       "      <th>min</th>\n",
       "      <td>1.000000</td>\n",
       "      <td>-2.000000</td>\n",
       "      <td>86.600000</td>\n",
       "      <td>141.100000</td>\n",
       "      <td>60.300000</td>\n",
       "      <td>47.800000</td>\n",
       "      <td>1488.000000</td>\n",
       "      <td>61.000000</td>\n",
       "      <td>7.000000</td>\n",
       "      <td>13.000000</td>\n",
       "      <td>16.000000</td>\n",
       "      <td>5118.000000</td>\n",
       "    </tr>\n",
       "    <tr>\n",
       "      <th>25%</th>\n",
       "      <td>46.000000</td>\n",
       "      <td>0.000000</td>\n",
       "      <td>94.500000</td>\n",
       "      <td>166.800000</td>\n",
       "      <td>64.200000</td>\n",
       "      <td>51.600000</td>\n",
       "      <td>2190.000000</td>\n",
       "      <td>98.000000</td>\n",
       "      <td>8.600000</td>\n",
       "      <td>19.000000</td>\n",
       "      <td>25.000000</td>\n",
       "      <td>7775.000000</td>\n",
       "    </tr>\n",
       "    <tr>\n",
       "      <th>50%</th>\n",
       "      <td>91.000000</td>\n",
       "      <td>1.000000</td>\n",
       "      <td>96.900000</td>\n",
       "      <td>173.200000</td>\n",
       "      <td>65.500000</td>\n",
       "      <td>54.100000</td>\n",
       "      <td>2420.000000</td>\n",
       "      <td>120.000000</td>\n",
       "      <td>9.000000</td>\n",
       "      <td>24.000000</td>\n",
       "      <td>30.000000</td>\n",
       "      <td>10295.000000</td>\n",
       "    </tr>\n",
       "    <tr>\n",
       "      <th>75%</th>\n",
       "      <td>136.000000</td>\n",
       "      <td>2.000000</td>\n",
       "      <td>102.400000</td>\n",
       "      <td>183.100000</td>\n",
       "      <td>66.600000</td>\n",
       "      <td>55.500000</td>\n",
       "      <td>2935.000000</td>\n",
       "      <td>146.000000</td>\n",
       "      <td>9.400000</td>\n",
       "      <td>30.000000</td>\n",
       "      <td>34.000000</td>\n",
       "      <td>16500.000000</td>\n",
       "    </tr>\n",
       "    <tr>\n",
       "      <th>max</th>\n",
       "      <td>181.000000</td>\n",
       "      <td>3.000000</td>\n",
       "      <td>120.900000</td>\n",
       "      <td>208.100000</td>\n",
       "      <td>72.000000</td>\n",
       "      <td>59.800000</td>\n",
       "      <td>4066.000000</td>\n",
       "      <td>326.000000</td>\n",
       "      <td>23.000000</td>\n",
       "      <td>49.000000</td>\n",
       "      <td>54.000000</td>\n",
       "      <td>45400.000000</td>\n",
       "    </tr>\n",
       "  </tbody>\n",
       "</table>\n",
       "</div>"
      ],
      "text/plain": [
       "               ID   symboling  wheel-base      length       width      height  \\\n",
       "count  181.000000  181.000000  181.000000  181.000000  181.000000  181.000000   \n",
       "mean    91.000000    0.850829   98.729282  174.174033   65.943646   53.709945   \n",
       "std     52.394338    1.267045    6.116197   12.336569    2.146114    2.497735   \n",
       "min      1.000000   -2.000000   86.600000  141.100000   60.300000   47.800000   \n",
       "25%     46.000000    0.000000   94.500000  166.800000   64.200000   51.600000   \n",
       "50%     91.000000    1.000000   96.900000  173.200000   65.500000   54.100000   \n",
       "75%    136.000000    2.000000  102.400000  183.100000   66.600000   55.500000   \n",
       "max    181.000000    3.000000  120.900000  208.100000   72.000000   59.800000   \n",
       "\n",
       "       curb-weight  engine-size  compression-ratio    city-mpg  highway-mpg  \\\n",
       "count   181.000000   181.000000         181.000000  181.000000   181.000000   \n",
       "mean   2564.165746   127.900552          10.154254   25.132597    30.646409   \n",
       "std     523.489016    42.578438           3.982306    6.418211     6.888545   \n",
       "min    1488.000000    61.000000           7.000000   13.000000    16.000000   \n",
       "25%    2190.000000    98.000000           8.600000   19.000000    25.000000   \n",
       "50%    2420.000000   120.000000           9.000000   24.000000    30.000000   \n",
       "75%    2935.000000   146.000000           9.400000   30.000000    34.000000   \n",
       "max    4066.000000   326.000000          23.000000   49.000000    54.000000   \n",
       "\n",
       "              price  \n",
       "count    181.000000  \n",
       "mean   13271.314917  \n",
       "std     8106.479635  \n",
       "min     5118.000000  \n",
       "25%     7775.000000  \n",
       "50%    10295.000000  \n",
       "75%    16500.000000  \n",
       "max    45400.000000  "
      ]
     },
     "execution_count": 7,
     "metadata": {},
     "output_type": "execute_result"
    }
   ],
   "source": [
    "train_data.describe()"
   ]
  },
  {
   "cell_type": "markdown",
   "id": "312bc8e8",
   "metadata": {},
   "source": [
    "### Data-Preprocessing"
   ]
  },
  {
   "cell_type": "code",
   "execution_count": 8,
   "id": "85e749fe",
   "metadata": {},
   "outputs": [],
   "source": [
    "train_data1 = train_data.copy()"
   ]
  },
  {
   "cell_type": "code",
   "execution_count": 9,
   "id": "7069f625",
   "metadata": {},
   "outputs": [
    {
     "data": {
      "text/plain": [
       "Index(['ID', 'symboling', 'normalized-losses', 'make', 'fuel-type',\n",
       "       'aspiration', 'num-of-doors', 'body-style', 'drive-wheels',\n",
       "       'engine-location', 'wheel-base', 'length', 'width', 'height',\n",
       "       'curb-weight', 'engine-type', 'num-of-cylinders', 'engine-size',\n",
       "       'fuel-system', 'bore', 'stroke', 'compression-ratio', 'horsepower',\n",
       "       'peak-rpm', 'city-mpg', 'highway-mpg', 'price'],\n",
       "      dtype='object')"
      ]
     },
     "execution_count": 9,
     "metadata": {},
     "output_type": "execute_result"
    }
   ],
   "source": [
    "train_data1.columns"
   ]
  },
  {
   "cell_type": "markdown",
   "id": "85961779",
   "metadata": {},
   "source": [
    "### Finding '?' and replacing with NaN"
   ]
  },
  {
   "cell_type": "code",
   "execution_count": 10,
   "id": "7fcf3813",
   "metadata": {},
   "outputs": [],
   "source": [
    "Columns = ['normalized-losses','bore','stroke','horsepower','peak-rpm']"
   ]
  },
  {
   "cell_type": "code",
   "execution_count": 11,
   "id": "86a982bc",
   "metadata": {},
   "outputs": [],
   "source": [
    "for i in Columns:\n",
    "    train_data1[i]=train_data1[i].str.replace('?','NaN').astype('float')"
   ]
  },
  {
   "cell_type": "code",
   "execution_count": 12,
   "id": "00826c0a",
   "metadata": {},
   "outputs": [
    {
     "name": "stdout",
     "output_type": "stream",
     "text": [
      "<class 'pandas.core.frame.DataFrame'>\n",
      "RangeIndex: 181 entries, 0 to 180\n",
      "Data columns (total 27 columns):\n",
      " #   Column             Non-Null Count  Dtype  \n",
      "---  ------             --------------  -----  \n",
      " 0   ID                 181 non-null    int64  \n",
      " 1   symboling          181 non-null    int64  \n",
      " 2   normalized-losses  147 non-null    float64\n",
      " 3   make               181 non-null    object \n",
      " 4   fuel-type          181 non-null    object \n",
      " 5   aspiration         181 non-null    object \n",
      " 6   num-of-doors       181 non-null    object \n",
      " 7   body-style         181 non-null    object \n",
      " 8   drive-wheels       181 non-null    object \n",
      " 9   engine-location    181 non-null    object \n",
      " 10  wheel-base         181 non-null    float64\n",
      " 11  length             181 non-null    float64\n",
      " 12  width              181 non-null    float64\n",
      " 13  height             181 non-null    float64\n",
      " 14  curb-weight        181 non-null    int64  \n",
      " 15  engine-type        181 non-null    object \n",
      " 16  num-of-cylinders   181 non-null    object \n",
      " 17  engine-size        181 non-null    int64  \n",
      " 18  fuel-system        181 non-null    object \n",
      " 19  bore               177 non-null    float64\n",
      " 20  stroke             177 non-null    float64\n",
      " 21  compression-ratio  181 non-null    float64\n",
      " 22  horsepower         179 non-null    float64\n",
      " 23  peak-rpm           179 non-null    float64\n",
      " 24  city-mpg           181 non-null    int64  \n",
      " 25  highway-mpg        181 non-null    int64  \n",
      " 26  price              181 non-null    int64  \n",
      "dtypes: float64(10), int64(7), object(10)\n",
      "memory usage: 38.3+ KB\n"
     ]
    }
   ],
   "source": [
    "train_data1.info()"
   ]
  },
  {
   "cell_type": "code",
   "execution_count": 13,
   "id": "23520b7d",
   "metadata": {},
   "outputs": [
    {
     "data": {
      "text/html": [
       "<div>\n",
       "<style scoped>\n",
       "    .dataframe tbody tr th:only-of-type {\n",
       "        vertical-align: middle;\n",
       "    }\n",
       "\n",
       "    .dataframe tbody tr th {\n",
       "        vertical-align: top;\n",
       "    }\n",
       "\n",
       "    .dataframe thead th {\n",
       "        text-align: right;\n",
       "    }\n",
       "</style>\n",
       "<table border=\"1\" class=\"dataframe\">\n",
       "  <thead>\n",
       "    <tr style=\"text-align: right;\">\n",
       "      <th></th>\n",
       "      <th>normalized-losses</th>\n",
       "      <th>bore</th>\n",
       "      <th>stroke</th>\n",
       "      <th>horsepower</th>\n",
       "      <th>peak-rpm</th>\n",
       "    </tr>\n",
       "  </thead>\n",
       "  <tbody>\n",
       "    <tr>\n",
       "      <th>count</th>\n",
       "      <td>147.000000</td>\n",
       "      <td>177.000000</td>\n",
       "      <td>177.000000</td>\n",
       "      <td>179.000000</td>\n",
       "      <td>179.000000</td>\n",
       "    </tr>\n",
       "    <tr>\n",
       "      <th>mean</th>\n",
       "      <td>120.863946</td>\n",
       "      <td>3.338983</td>\n",
       "      <td>3.274463</td>\n",
       "      <td>104.167598</td>\n",
       "      <td>5106.703911</td>\n",
       "    </tr>\n",
       "    <tr>\n",
       "      <th>std</th>\n",
       "      <td>35.086515</td>\n",
       "      <td>0.265255</td>\n",
       "      <td>0.309848</td>\n",
       "      <td>37.967385</td>\n",
       "      <td>473.256441</td>\n",
       "    </tr>\n",
       "    <tr>\n",
       "      <th>min</th>\n",
       "      <td>65.000000</td>\n",
       "      <td>2.680000</td>\n",
       "      <td>2.190000</td>\n",
       "      <td>48.000000</td>\n",
       "      <td>4150.000000</td>\n",
       "    </tr>\n",
       "    <tr>\n",
       "      <th>25%</th>\n",
       "      <td>94.000000</td>\n",
       "      <td>3.150000</td>\n",
       "      <td>3.110000</td>\n",
       "      <td>71.000000</td>\n",
       "      <td>4800.000000</td>\n",
       "    </tr>\n",
       "    <tr>\n",
       "      <th>50%</th>\n",
       "      <td>115.000000</td>\n",
       "      <td>3.330000</td>\n",
       "      <td>3.350000</td>\n",
       "      <td>95.000000</td>\n",
       "      <td>5100.000000</td>\n",
       "    </tr>\n",
       "    <tr>\n",
       "      <th>75%</th>\n",
       "      <td>148.000000</td>\n",
       "      <td>3.590000</td>\n",
       "      <td>3.460000</td>\n",
       "      <td>116.000000</td>\n",
       "      <td>5500.000000</td>\n",
       "    </tr>\n",
       "    <tr>\n",
       "      <th>max</th>\n",
       "      <td>256.000000</td>\n",
       "      <td>3.940000</td>\n",
       "      <td>4.170000</td>\n",
       "      <td>262.000000</td>\n",
       "      <td>6600.000000</td>\n",
       "    </tr>\n",
       "  </tbody>\n",
       "</table>\n",
       "</div>"
      ],
      "text/plain": [
       "       normalized-losses        bore      stroke  horsepower     peak-rpm\n",
       "count         147.000000  177.000000  177.000000  179.000000   179.000000\n",
       "mean          120.863946    3.338983    3.274463  104.167598  5106.703911\n",
       "std            35.086515    0.265255    0.309848   37.967385   473.256441\n",
       "min            65.000000    2.680000    2.190000   48.000000  4150.000000\n",
       "25%            94.000000    3.150000    3.110000   71.000000  4800.000000\n",
       "50%           115.000000    3.330000    3.350000   95.000000  5100.000000\n",
       "75%           148.000000    3.590000    3.460000  116.000000  5500.000000\n",
       "max           256.000000    3.940000    4.170000  262.000000  6600.000000"
      ]
     },
     "execution_count": 13,
     "metadata": {},
     "output_type": "execute_result"
    }
   ],
   "source": [
    "train_data1[Columns].describe()"
   ]
  },
  {
   "cell_type": "markdown",
   "id": "e0eda66e",
   "metadata": {},
   "source": [
    "### Replacing the NaN values with Mean Values since data seems to be normally distributed except for Horsepower"
   ]
  },
  {
   "cell_type": "code",
   "execution_count": 14,
   "id": "fd9e8379",
   "metadata": {},
   "outputs": [],
   "source": [
    "train_data1['normalized-losses'].fillna(train_data1['normalized-losses'].mean(), inplace=True)"
   ]
  },
  {
   "cell_type": "code",
   "execution_count": 15,
   "id": "6b1f42e3",
   "metadata": {},
   "outputs": [],
   "source": [
    "train_data1['bore'].fillna(train_data1['bore'].mean(), inplace=True)"
   ]
  },
  {
   "cell_type": "code",
   "execution_count": 16,
   "id": "05dde3de",
   "metadata": {},
   "outputs": [],
   "source": [
    "train_data1['stroke'].fillna(train_data1['stroke'].mean(), inplace=True)"
   ]
  },
  {
   "cell_type": "code",
   "execution_count": 17,
   "id": "c8630975",
   "metadata": {},
   "outputs": [],
   "source": [
    "train_data1['horsepower'].fillna(train_data1['horsepower'].median(), inplace=True)"
   ]
  },
  {
   "cell_type": "code",
   "execution_count": 18,
   "id": "790f90aa",
   "metadata": {},
   "outputs": [],
   "source": [
    "train_data1['peak-rpm'].fillna(train_data1['peak-rpm'].mean(), inplace=True)"
   ]
  },
  {
   "cell_type": "code",
   "execution_count": 19,
   "id": "0c1a8a7f",
   "metadata": {},
   "outputs": [
    {
     "name": "stdout",
     "output_type": "stream",
     "text": [
      "<class 'pandas.core.frame.DataFrame'>\n",
      "RangeIndex: 181 entries, 0 to 180\n",
      "Data columns (total 27 columns):\n",
      " #   Column             Non-Null Count  Dtype  \n",
      "---  ------             --------------  -----  \n",
      " 0   ID                 181 non-null    int64  \n",
      " 1   symboling          181 non-null    int64  \n",
      " 2   normalized-losses  181 non-null    float64\n",
      " 3   make               181 non-null    object \n",
      " 4   fuel-type          181 non-null    object \n",
      " 5   aspiration         181 non-null    object \n",
      " 6   num-of-doors       181 non-null    object \n",
      " 7   body-style         181 non-null    object \n",
      " 8   drive-wheels       181 non-null    object \n",
      " 9   engine-location    181 non-null    object \n",
      " 10  wheel-base         181 non-null    float64\n",
      " 11  length             181 non-null    float64\n",
      " 12  width              181 non-null    float64\n",
      " 13  height             181 non-null    float64\n",
      " 14  curb-weight        181 non-null    int64  \n",
      " 15  engine-type        181 non-null    object \n",
      " 16  num-of-cylinders   181 non-null    object \n",
      " 17  engine-size        181 non-null    int64  \n",
      " 18  fuel-system        181 non-null    object \n",
      " 19  bore               181 non-null    float64\n",
      " 20  stroke             181 non-null    float64\n",
      " 21  compression-ratio  181 non-null    float64\n",
      " 22  horsepower         181 non-null    float64\n",
      " 23  peak-rpm           181 non-null    float64\n",
      " 24  city-mpg           181 non-null    int64  \n",
      " 25  highway-mpg        181 non-null    int64  \n",
      " 26  price              181 non-null    int64  \n",
      "dtypes: float64(10), int64(7), object(10)\n",
      "memory usage: 38.3+ KB\n"
     ]
    }
   ],
   "source": [
    "train_data1.info()"
   ]
  },
  {
   "cell_type": "markdown",
   "id": "1bd58fc7",
   "metadata": {},
   "source": [
    "### Categorical Variable Change - num-of doors"
   ]
  },
  {
   "cell_type": "code",
   "execution_count": 20,
   "id": "bf1c93ad",
   "metadata": {},
   "outputs": [],
   "source": [
    "train_data1['num-of-doors'] = train_data1['num-of-doors'].str.replace('?','four')"
   ]
  },
  {
   "cell_type": "code",
   "execution_count": 21,
   "id": "a299b724",
   "metadata": {},
   "outputs": [
    {
     "data": {
      "text/plain": [
       "four    104\n",
       "two      77\n",
       "Name: num-of-doors, dtype: int64"
      ]
     },
     "execution_count": 21,
     "metadata": {},
     "output_type": "execute_result"
    }
   ],
   "source": [
    "train_data1['num-of-doors'].value_counts()"
   ]
  },
  {
   "cell_type": "code",
   "execution_count": 22,
   "id": "82acb105",
   "metadata": {},
   "outputs": [
    {
     "data": {
      "text/plain": [
       "fwd    108\n",
       "rwd     65\n",
       "4wd      8\n",
       "Name: drive-wheels, dtype: int64"
      ]
     },
     "execution_count": 22,
     "metadata": {},
     "output_type": "execute_result"
    }
   ],
   "source": [
    "train_data1['drive-wheels'].value_counts()"
   ]
  },
  {
   "cell_type": "code",
   "execution_count": 23,
   "id": "14790c23",
   "metadata": {},
   "outputs": [],
   "source": [
    "train_data1['drive-wheels'] = train_data1['drive-wheels'].str.replace('4wd','fwd')"
   ]
  },
  {
   "cell_type": "code",
   "execution_count": 24,
   "id": "93cc8f58",
   "metadata": {},
   "outputs": [
    {
     "data": {
      "text/plain": [
       "fwd    116\n",
       "rwd     65\n",
       "Name: drive-wheels, dtype: int64"
      ]
     },
     "execution_count": 24,
     "metadata": {},
     "output_type": "execute_result"
    }
   ],
   "source": [
    "train_data1['drive-wheels'].value_counts()"
   ]
  },
  {
   "cell_type": "code",
   "execution_count": 25,
   "id": "61ccd5ad",
   "metadata": {},
   "outputs": [],
   "source": [
    "NumCols = train_data1.describe().columns"
   ]
  },
  {
   "cell_type": "code",
   "execution_count": 26,
   "id": "5c3232ca",
   "metadata": {},
   "outputs": [],
   "source": [
    "CatCols = set(train_data1.columns)-set(train_data1.describe().columns)"
   ]
  },
  {
   "cell_type": "code",
   "execution_count": 27,
   "id": "5bca3f4c",
   "metadata": {},
   "outputs": [
    {
     "data": {
      "text/plain": [
       "{'aspiration',\n",
       " 'body-style',\n",
       " 'drive-wheels',\n",
       " 'engine-location',\n",
       " 'engine-type',\n",
       " 'fuel-system',\n",
       " 'fuel-type',\n",
       " 'make',\n",
       " 'num-of-cylinders',\n",
       " 'num-of-doors'}"
      ]
     },
     "execution_count": 27,
     "metadata": {},
     "output_type": "execute_result"
    }
   ],
   "source": [
    "CatCols"
   ]
  },
  {
   "cell_type": "markdown",
   "id": "426d48ed",
   "metadata": {},
   "source": [
    "### Exploratory Data Analysis"
   ]
  },
  {
   "cell_type": "markdown",
   "id": "d320e7f6",
   "metadata": {},
   "source": [
    "### Univariate Analysis"
   ]
  },
  {
   "cell_type": "markdown",
   "id": "b95fd516",
   "metadata": {},
   "source": [
    "### Price : Target Variable"
   ]
  },
  {
   "cell_type": "code",
   "execution_count": 28,
   "id": "7d008ab1",
   "metadata": {},
   "outputs": [
    {
     "name": "stdout",
     "output_type": "stream",
     "text": [
      "count      181.000000\n",
      "mean     13271.314917\n",
      "std       8106.479635\n",
      "min       5118.000000\n",
      "25%       7775.000000\n",
      "50%      10295.000000\n",
      "75%      16500.000000\n",
      "max      45400.000000\n",
      "Name: price, dtype: float64\n"
     ]
    }
   ],
   "source": [
    "print(train_data[\"price\"].describe())"
   ]
  },
  {
   "cell_type": "code",
   "execution_count": 29,
   "id": "72a13d23",
   "metadata": {},
   "outputs": [
    {
     "data": {
      "text/plain": [
       "<AxesSubplot:xlabel='price', ylabel='Density'>"
      ]
     },
     "execution_count": 29,
     "metadata": {},
     "output_type": "execute_result"
    },
    {
     "data": {
      "image/png": "[encoded data removed]",
      "text/plain": [
       "<Figure size 432x288 with 1 Axes>"
      ]
     },
     "metadata": {
      "needs_background": "light"
     },
     "output_type": "display_data"
    }
   ],
   "source": [
    "sns.distplot(train_data['price'])"
   ]
  },
  {
   "cell_type": "markdown",
   "id": "8c6d37aa",
   "metadata": {},
   "source": [
    "#### Inference"
   ]
  },
  {
   "cell_type": "raw",
   "id": "497b06ce",
   "metadata": {},
   "source": [
    "Mean and median of price are significantly different.\n",
    "Large standard deviation indicates that there is considerable variance in the prices of the automobiles.\n",
    "Price values are right-skewed, most cars are priced at the lower end (9000) of the price range."
   ]
  },
  {
   "cell_type": "markdown",
   "id": "192b0024",
   "metadata": {},
   "source": [
    "### Car ID"
   ]
  },
  {
   "cell_type": "raw",
   "id": "e5ceb7c2",
   "metadata": {},
   "source": [
    "car_ID : Unique ID for each observation"
   ]
  },
  {
   "cell_type": "markdown",
   "id": "0d1359c2",
   "metadata": {},
   "source": [
    "### Symboling"
   ]
  },
  {
   "cell_type": "raw",
   "id": "52bd573a",
   "metadata": {},
   "source": [
    "symboling : Its assigned insurance risk rating\n",
    "A value of +3 indicates that the auto is risky,\n",
    "-3 that it is probably pretty safe.(Categorical"
   ]
  },
  {
   "cell_type": "markdown",
   "id": "d0464bf6",
   "metadata": {},
   "source": [
    "#### Lets Check the count of automobile in each category and percent share of each category."
   ]
  },
  {
   "cell_type": "code",
   "execution_count": 30,
   "id": "e6ea103e",
   "metadata": {},
   "outputs": [
    {
     "data": {
      "image/png": "[encoded data removed]",
      "text/plain": [
       "<Figure size 432x288 with 1 Axes>"
      ]
     },
     "metadata": {
      "needs_background": "light"
     },
     "output_type": "display_data"
    },
    {
     "data": {
      "text/plain": [
       "<Figure size 432x288 with 0 Axes>"
      ]
     },
     "metadata": {},
     "output_type": "display_data"
    }
   ],
   "source": [
    "plt1 = sns.countplot(train_data['symboling'])\n",
    "plt1.set(xlabel = 'Symbol', ylabel= 'Count of Cars')\n",
    "plt.show()\n",
    "plt.tight_layout()"
   ]
  },
  {
   "cell_type": "code",
   "execution_count": 31,
   "id": "8346a3b4",
   "metadata": {},
   "outputs": [
    {
     "data": {
      "image/png": "[encoded data removed]",
      "text/plain": [
       "<Figure size 1080x540 with 1 Axes>"
      ]
     },
     "metadata": {},
     "output_type": "display_data"
    },
    {
     "data": {
      "text/plain": [
       "<Figure size 432x288 with 0 Axes>"
      ]
     },
     "metadata": {},
     "output_type": "display_data"
    }
   ],
   "source": [
    "df_sym = pd.DataFrame(train_data['symboling'].value_counts())\n",
    "df_sym.plot.pie(subplots=True,labels = df_sym.index.values, autopct='%1.1f%%', figsize = (15,7.5))\n",
    "# Unsquish the pie.\n",
    "plt.gca().set_aspect('equal')\n",
    "plt.show()\n",
    "plt.tight_layout()"
   ]
  },
  {
   "cell_type": "markdown",
   "id": "48a67bd7",
   "metadata": {},
   "source": [
    "#### Lets Check average price of cars in each symbol category"
   ]
  },
  {
   "cell_type": "code",
   "execution_count": 32,
   "id": "741a9207",
   "metadata": {},
   "outputs": [
    {
     "data": {
      "image/png": "[encoded data removed]",
      "text/plain": [
       "<Figure size 432x288 with 1 Axes>"
      ]
     },
     "metadata": {
      "needs_background": "light"
     },
     "output_type": "display_data"
    }
   ],
   "source": [
    "plt1 = train_data[['symboling','price']].groupby(\"symboling\").mean().plot(kind='bar',legend = False,)\n",
    "plt1.set_xlabel(\"Symbol\")\n",
    "plt1.set_ylabel(\"Avg Price (Dollars)\")\n",
    "plt.show()"
   ]
  },
  {
   "cell_type": "markdown",
   "id": "0ea92ee9",
   "metadata": {},
   "source": [
    "#### Inference"
   ]
  },
  {
   "cell_type": "raw",
   "id": "4b7b018c",
   "metadata": {},
   "source": [
    "More than 50% of cars are with symbol 0 or 1.\n",
    "Average price of car is lower for 0,1 & 2 symbol category."
   ]
  },
  {
   "cell_type": "markdown",
   "id": "b116f44d",
   "metadata": {},
   "source": [
    "### Normalized-Losses"
   ]
  },
  {
   "cell_type": "code",
   "execution_count": 33,
   "id": "8a5e4a93",
   "metadata": {},
   "outputs": [
    {
     "data": {
      "text/plain": [
       "<AxesSubplot:xlabel='normalized-losses', ylabel='Density'>"
      ]
     },
     "execution_count": 33,
     "metadata": {},
     "output_type": "execute_result"
    },
    {
     "data": {
      "image/png": "[encoded data removed]",
      "text/plain": [
       "<Figure size 432x288 with 1 Axes>"
      ]
     },
     "metadata": {
      "needs_background": "light"
     },
     "output_type": "display_data"
    }
   ],
   "source": [
    "sns.distplot(train_data1['normalized-losses'])"
   ]
  },
  {
   "cell_type": "code",
   "execution_count": 34,
   "id": "e9fe9dad",
   "metadata": {},
   "outputs": [
    {
     "data": {
      "image/png": "[encoded data removed]",
      "text/plain": [
       "<Figure size 432x288 with 1 Axes>"
      ]
     },
     "metadata": {
      "needs_background": "light"
     },
     "output_type": "display_data"
    }
   ],
   "source": [
    "plt1 = sns.scatterplot(x = 'normalized-losses', y = 'price', data = train_data1)\n",
    "plt1.set_xlabel('normalized-losses')\n",
    "plt1.set_ylabel('Price of Car (Dollars)')\n",
    "plt.show()"
   ]
  },
  {
   "cell_type": "markdown",
   "id": "853f9c23",
   "metadata": {},
   "source": [
    "#### Inference"
   ]
  },
  {
   "cell_type": "raw",
   "id": "7d2de758",
   "metadata": {},
   "source": [
    "There is not much of a correlation with Normalized Losses of the car with price."
   ]
  },
  {
   "cell_type": "markdown",
   "id": "fb671940",
   "metadata": {},
   "source": [
    "### Make"
   ]
  },
  {
   "cell_type": "code",
   "execution_count": 35,
   "id": "95781a5f",
   "metadata": {},
   "outputs": [
    {
     "data": {
      "text/plain": [
       "array(['toyota', 'bmw', 'renault', 'peugot', 'volvo', 'dodge', 'jaguar',\n",
       "       'porsche', 'subaru', 'mitsubishi'], dtype=object)"
      ]
     },
     "execution_count": 35,
     "metadata": {},
     "output_type": "execute_result"
    }
   ],
   "source": [
    "train_data.make.values[0:10]"
   ]
  },
  {
   "cell_type": "markdown",
   "id": "b391f4d4",
   "metadata": {},
   "source": [
    "#### Check companies and their no of models."
   ]
  },
  {
   "cell_type": "code",
   "execution_count": 36,
   "id": "1b0ec82a",
   "metadata": {},
   "outputs": [
    {
     "data": {
      "image/png": "[encoded data removed]",
      "text/plain": [
       "<Figure size 1080x360 with 1 Axes>"
      ]
     },
     "metadata": {
      "needs_background": "light"
     },
     "output_type": "display_data"
    },
    {
     "data": {
      "text/plain": [
       "<Figure size 432x288 with 0 Axes>"
      ]
     },
     "metadata": {},
     "output_type": "display_data"
    }
   ],
   "source": [
    "fig, ax = plt.subplots(figsize = (15,5))\n",
    "plt1 = sns.countplot(train_data['make'], order=pd.value_counts(train_data['make']).index,)\n",
    "plt1.set(xlabel = 'make', ylabel= 'Count of Cars')\n",
    "xticks(rotation = 90)\n",
    "plt.show()\n",
    "plt.tight_layout()"
   ]
  },
  {
   "cell_type": "code",
   "execution_count": 37,
   "id": "a1625d1f",
   "metadata": {},
   "outputs": [
    {
     "data": {
      "text/plain": [
       "count        181\n",
       "unique        22\n",
       "top       toyota\n",
       "freq          28\n",
       "Name: make, dtype: object"
      ]
     },
     "execution_count": 37,
     "metadata": {},
     "output_type": "execute_result"
    }
   ],
   "source": [
    "train_data.make.describe()"
   ]
  },
  {
   "cell_type": "markdown",
   "id": "89a460b4",
   "metadata": {},
   "source": [
    "#### Inference"
   ]
  },
  {
   "cell_type": "raw",
   "id": "775febf1",
   "metadata": {},
   "source": [
    "Toyota, a Japanese company has the most no of models."
   ]
  },
  {
   "cell_type": "markdown",
   "id": "66763357",
   "metadata": {},
   "source": [
    "#### Lets Check average car price of each company."
   ]
  },
  {
   "cell_type": "code",
   "execution_count": 38,
   "id": "b5871c91",
   "metadata": {},
   "outputs": [
    {
     "data": {
      "image/png": "[encoded data removed]",
      "text/plain": [
       "<Figure size 1080x216 with 1 Axes>"
      ]
     },
     "metadata": {
      "needs_background": "light"
     },
     "output_type": "display_data"
    }
   ],
   "source": [
    "train_comp_avg_price = train_data[['make','price']].groupby(\"make\", as_index = False).mean().rename(columns={'price':'make_avg_price'})\n",
    "plt1 = train_comp_avg_price.plot(x = 'make', kind='bar',legend = False, sort_columns = True, figsize = (15,3))\n",
    "plt1.set_xlabel(\"Brand\")\n",
    "plt1.set_ylabel(\"Avg Price (Dollars)\")\n",
    "xticks(rotation = 90)\n",
    "plt.show()"
   ]
  },
  {
   "cell_type": "markdown",
   "id": "17358837",
   "metadata": {},
   "source": [
    "#### Inference"
   ]
  },
  {
   "cell_type": "raw",
   "id": "dde8ca8a",
   "metadata": {},
   "source": [
    "Jaguar, Mercedes-benz, Porsche and BMW are makes which has high average cost."
   ]
  },
  {
   "cell_type": "markdown",
   "id": "34ecb434",
   "metadata": {},
   "source": [
    "### Aspiration"
   ]
  },
  {
   "cell_type": "code",
   "execution_count": 39,
   "id": "6ac4ebc0",
   "metadata": {},
   "outputs": [
    {
     "data": {
      "image/png": "[encoded data removed]",
      "text/plain": [
       "<Figure size 432x288 with 1 Axes>"
      ]
     },
     "metadata": {
      "needs_background": "light"
     },
     "output_type": "display_data"
    }
   ],
   "source": [
    "train_aspir_avg_price = train_data[['aspiration','price']].groupby(\"aspiration\", as_index = False).mean().rename(columns={'price':'aspir_avg_price'})\n",
    "plt1 = train_aspir_avg_price.plot(x = 'aspiration', kind='bar',legend = False, sort_columns = True)\n",
    "plt1.set_xlabel(\"Aspiration\")\n",
    "plt1.set_ylabel(\"Avg Price (Dollars)\")\n",
    "xticks(rotation = 0)\n",
    "plt.show()"
   ]
  },
  {
   "cell_type": "markdown",
   "id": "a70d7157",
   "metadata": {},
   "source": [
    "#### Inference"
   ]
  },
  {
   "cell_type": "raw",
   "id": "0f319005",
   "metadata": {},
   "source": [
    "Cars with turbo aspiration engine are priced more than standard ones."
   ]
  },
  {
   "cell_type": "markdown",
   "id": "a313cc18",
   "metadata": {},
   "source": [
    "### Door Numbers"
   ]
  },
  {
   "cell_type": "code",
   "execution_count": 40,
   "id": "10703776",
   "metadata": {},
   "outputs": [
    {
     "data": {
      "image/png": "[encoded data removed]",
      "text/plain": [
       "<Figure size 432x288 with 1 Axes>"
      ]
     },
     "metadata": {
      "needs_background": "light"
     },
     "output_type": "display_data"
    }
   ],
   "source": [
    "train_door_avg_price = train_data1[['num-of-doors','price']].groupby(\"num-of-doors\", as_index = False).mean().rename(columns={'price':'door_avg_price'})\n",
    "plt1 = train_door_avg_price.plot(x = 'num-of-doors', kind='bar',legend = False, sort_columns = True)\n",
    "plt1.set_xlabel(\"No of Doors\")\n",
    "plt1.set_ylabel(\"Avg Price (Dollars)\")\n",
    "xticks(rotation = 0)\n",
    "plt.show()"
   ]
  },
  {
   "cell_type": "markdown",
   "id": "d2cdde36",
   "metadata": {},
   "source": [
    "#### Inference"
   ]
  },
  {
   "cell_type": "raw",
   "id": "012af926",
   "metadata": {},
   "source": [
    "Both are equily priced "
   ]
  },
  {
   "cell_type": "markdown",
   "id": "2bd8a723",
   "metadata": {},
   "source": [
    "### Body Style"
   ]
  },
  {
   "cell_type": "code",
   "execution_count": 41,
   "id": "b44cf34f",
   "metadata": {},
   "outputs": [
    {
     "data": {
      "image/png": "[encoded data removed]",
      "text/plain": [
       "<Figure size 432x288 with 1 Axes>"
      ]
     },
     "metadata": {
      "needs_background": "light"
     },
     "output_type": "display_data"
    }
   ],
   "source": [
    "train_body_avg_price = train_data[['body-style','price']].groupby(\"body-style\", as_index = False).mean().rename(columns={'price':'carbody_avg_price'})\n",
    "plt1 = train_body_avg_price.plot(x = 'body-style', kind='bar',legend = False, sort_columns = True)\n",
    "plt1.set_xlabel(\"Car Body\")\n",
    "plt1.set_ylabel(\"Avg Price (Dollars)\")\n",
    "xticks(rotation = 0)\n",
    "plt.show()"
   ]
  },
  {
   "cell_type": "markdown",
   "id": "a5bf3139",
   "metadata": {},
   "source": [
    "#### Inference"
   ]
  },
  {
   "cell_type": "raw",
   "id": "589c2e6a",
   "metadata": {},
   "source": [
    "Hardtop and convertible are the most expensive whereas hatchbacks are the cheapest."
   ]
  },
  {
   "cell_type": "markdown",
   "id": "551acb77",
   "metadata": {},
   "source": [
    "### Drive-wheels"
   ]
  },
  {
   "cell_type": "code",
   "execution_count": 42,
   "id": "d61e6cd7",
   "metadata": {},
   "outputs": [
    {
     "data": {
      "image/png": "[encoded data removed]",
      "text/plain": [
       "<Figure size 432x288 with 1 Axes>"
      ]
     },
     "metadata": {
      "needs_background": "light"
     },
     "output_type": "display_data"
    }
   ],
   "source": [
    "train_drivewheel_avg_price = train_data[['drive-wheels','price']].groupby(\"drive-wheels\", as_index = False).mean().rename(columns={'price':'drivewheel_avg_price'})\n",
    "plt1 = train_drivewheel_avg_price.plot(x = 'drive-wheels', kind='bar', sort_columns = True,legend = False,)\n",
    "plt1.set_xlabel(\"Drive Wheel Type\")\n",
    "plt1.set_ylabel(\"Avg Price (Dollars)\")\n",
    "xticks(rotation = 0)\n",
    "plt.show()"
   ]
  },
  {
   "cell_type": "markdown",
   "id": "7098048b",
   "metadata": {},
   "source": [
    "#### Inference"
   ]
  },
  {
   "cell_type": "raw",
   "id": "f3b11dd1",
   "metadata": {},
   "source": [
    "Cars with Rear wheel drive have a higher price value."
   ]
  },
  {
   "cell_type": "markdown",
   "id": "edf99172",
   "metadata": {},
   "source": [
    "### Wheel base"
   ]
  },
  {
   "cell_type": "code",
   "execution_count": 43,
   "id": "7bf62652",
   "metadata": {},
   "outputs": [
    {
     "data": {
      "image/png": "[encoded data removed]",
      "text/plain": [
       "<Figure size 432x288 with 1 Axes>"
      ]
     },
     "metadata": {
      "needs_background": "light"
     },
     "output_type": "display_data"
    }
   ],
   "source": [
    "plt1 = sns.scatterplot(x = 'wheel-base', y = 'price', data = train_data)\n",
    "plt1.set_xlabel('Wheelbase (Inches)')\n",
    "plt1.set_ylabel('Price of Car (Dollars)')\n",
    "plt.show()"
   ]
  },
  {
   "cell_type": "markdown",
   "id": "ff01967f",
   "metadata": {},
   "source": [
    "#### Inference"
   ]
  },
  {
   "cell_type": "raw",
   "id": "c09773ef",
   "metadata": {},
   "source": [
    "Most cars has a wheel base around 95 inches.\n",
    "Price has a slight positive correlation with wheelbase."
   ]
  },
  {
   "cell_type": "markdown",
   "id": "95ae3328",
   "metadata": {},
   "source": [
    "### Car Dimensions"
   ]
  },
  {
   "cell_type": "markdown",
   "id": "8c94fb3f",
   "metadata": {},
   "source": [
    "#### Lets Check how price varies with Car's length, width,height and weight."
   ]
  },
  {
   "cell_type": "code",
   "execution_count": 44,
   "id": "60d91862",
   "metadata": {},
   "outputs": [
    {
     "data": {
      "image/png": "[encoded data removed]",
      "text/plain": [
       "<Figure size 1080x720 with 4 Axes>"
      ]
     },
     "metadata": {
      "needs_background": "light"
     },
     "output_type": "display_data"
    }
   ],
   "source": [
    "fig, axs = plt.subplots(2,2,figsize=(15,10))\n",
    "plt1 = sns.scatterplot(x = 'length', y = 'price', data = train_data, ax = axs[0,0])\n",
    "plt1.set_xlabel('Length of Car (Inches)')\n",
    "plt1.set_ylabel('Price of Car (Dollars)')\n",
    "plt2 = sns.scatterplot(x = 'width', y = 'price', data = train_data, ax = axs[0,1])\n",
    "plt2.set_xlabel('Width of Car (Inches)')\n",
    "plt2.set_ylabel('Price of Car (Dollars)')\n",
    "plt3 = sns.scatterplot(x = 'height', y = 'price', data = train_data, ax = axs[1,0])\n",
    "plt3.set_xlabel('Height of Car (Inches)')\n",
    "plt3.set_ylabel('Price of Car (Dollars)')\n",
    "plt3 = sns.scatterplot(x = 'curb-weight', y = 'price', data = train_data, ax = axs[1,1])\n",
    "plt3.set_xlabel('Weight of Car (Pounds)')\n",
    "plt3.set_ylabel('Price of Car (Dollars)')\n",
    "plt.tight_layout()"
   ]
  },
  {
   "cell_type": "markdown",
   "id": "23f57e29",
   "metadata": {},
   "source": [
    "#### Inference"
   ]
  },
  {
   "cell_type": "raw",
   "id": "557aee15",
   "metadata": {},
   "source": [
    "Length width and weight of the car is positively related with the price.\n",
    "There is not much of a correlation with Height of the car with price."
   ]
  },
  {
   "cell_type": "markdown",
   "id": "03e48305",
   "metadata": {},
   "source": [
    "### Engine Type, No of Cyl & Fuel System"
   ]
  },
  {
   "cell_type": "code",
   "execution_count": 45,
   "id": "13255585",
   "metadata": {},
   "outputs": [
    {
     "data": {
      "image/png": "[encoded data removed]",
      "text/plain": [
       "<Figure size 1440x360 with 3 Axes>"
      ]
     },
     "metadata": {
      "needs_background": "light"
     },
     "output_type": "display_data"
    }
   ],
   "source": [
    "fig, axs = plt.subplots(1,3,figsize=(20,5))\n",
    "#\n",
    "train_engine_avg_price = train_data[['engine-type','price']].groupby(\"engine-type\", as_index = False).mean().rename(columns={'price':'engine_avg_price'})\n",
    "plt1 = train_engine_avg_price.plot(x = 'engine-type', kind='bar', sort_columns = True, legend = False, ax = axs[0])\n",
    "plt1.set_xlabel(\"Engine Type\")\n",
    "plt1.set_ylabel(\"Avg Price (Dollars)\")\n",
    "xticks(rotation = 0)\n",
    "#\n",
    "train_cylindernumber_avg_price = train_data[['num-of-cylinders','price']].groupby(\"num-of-cylinders\", as_index = False).mean().rename(columns={'price':'cylindernumber_avg_price'})\n",
    "plt1 = train_cylindernumber_avg_price.plot(x = 'num-of-cylinders', kind='bar', sort_columns = True,legend = False, ax = axs[1])\n",
    "plt1.set_xlabel(\"Cylinder Number\")\n",
    "plt1.set_ylabel(\"Avg Price (Dollars)\")\n",
    "xticks(rotation = 0)\n",
    "#\n",
    "train_fuelsystem_avg_price = train_data[['fuel-system','price']].groupby(\"fuel-system\", as_index = False).mean().rename(columns={'price':'fuelsystem_avg_price'})\n",
    "plt1 = train_fuelsystem_avg_price.plot(x = 'fuel-system', kind='bar', sort_columns = True,legend = False, ax = axs[2])\n",
    "plt1.set_xlabel(\"Fuel System\")\n",
    "plt1.set_ylabel(\"Avg Price (Dollars)\")\n",
    "xticks(rotation = 0)\n",
    "plt.show()"
   ]
  },
  {
   "cell_type": "markdown",
   "id": "49bf2355",
   "metadata": {},
   "source": [
    "#### Inference"
   ]
  },
  {
   "cell_type": "raw",
   "id": "cb26e024",
   "metadata": {},
   "source": [
    "DOHC and OHCV engine types are priced high.\n",
    "Eight and twelve cylinder cars have higher price.\n",
    "IDI and MPFI fuel system have higher price."
   ]
  },
  {
   "cell_type": "markdown",
   "id": "2b3b61b2",
   "metadata": {},
   "source": [
    "### Engine Size, Bore Ratio, Stroke, Horsepower, Peak RPM & Compression Ratio"
   ]
  },
  {
   "cell_type": "code",
   "execution_count": 46,
   "id": "366890eb",
   "metadata": {},
   "outputs": [
    {
     "data": {
      "image/png": "[encoded data removed]",
      "text/plain": [
       "<Figure size 1440x1440 with 6 Axes>"
      ]
     },
     "metadata": {
      "needs_background": "light"
     },
     "output_type": "display_data"
    }
   ],
   "source": [
    "fig, axs = plt.subplots(3,2,figsize=(20,20))\n",
    "#\n",
    "plt1 = sns.scatterplot(x = 'engine-size', y = 'price', data = train_data, ax = axs[0,0])\n",
    "plt1.set_xlabel('Size of Engine (Cubic Inches)')\n",
    "plt1.set_ylabel('Price of Car (Dollars)')\n",
    "#\n",
    "plt2 = sns.scatterplot(x = 'bore', y = 'price', data = train_data, ax = axs[0,1])\n",
    "plt2.set_xlabel('Bore Ratio')\n",
    "plt2.set_ylabel('Price of Car (Dollars)')\n",
    "#\n",
    "plt3 = sns.scatterplot(x = 'stroke', y = 'price', data = train_data, ax = axs[1,0])\n",
    "plt3.set_xlabel('Stroke')\n",
    "plt3.set_ylabel('Price of Car (Dollars)')\n",
    "#\n",
    "plt4 = sns.scatterplot(x = 'compression-ratio', y = 'price', data = train_data, ax = axs[1,1])\n",
    "plt4.set_xlabel('Compression Ratio')\n",
    "plt4.set_ylabel('Price of Car (Dollars)')\n",
    "#\n",
    "plt5 = sns.scatterplot(x = 'horsepower', y = 'price', data = train_data, ax = axs[2,0])\n",
    "plt5.set_xlabel('Horsepower')\n",
    "plt5.set_ylabel('Price of Car (Dollars)')\n",
    "#\n",
    "plt5 = sns.scatterplot(x = 'peak-rpm', y = 'price', data = train_data, ax = axs[2,1])\n",
    "plt5.set_xlabel('Peak RPM')\n",
    "plt5.set_ylabel('Price of Car (Dollars)')\n",
    "plt.tight_layout()\n",
    "plt.show()"
   ]
  },
  {
   "cell_type": "markdown",
   "id": "cc9f7bef",
   "metadata": {},
   "source": [
    "#### Inference"
   ]
  },
  {
   "cell_type": "raw",
   "id": "425cf507",
   "metadata": {},
   "source": [
    "Size of Engine, bore ratio, and Horsepower has positive correlation with price."
   ]
  },
  {
   "cell_type": "markdown",
   "id": "d1aa1ca0",
   "metadata": {},
   "source": [
    "#### Lets find out what is the split of Categorical Variables in the Dataset"
   ]
  },
  {
   "cell_type": "code",
   "execution_count": 47,
   "id": "c1b7236a",
   "metadata": {},
   "outputs": [
    {
     "data": {
      "text/plain": [
       "<AxesSubplot:xlabel='body-style', ylabel='count'>"
      ]
     },
     "execution_count": 47,
     "metadata": {},
     "output_type": "execute_result"
    },
    {
     "data": {
      "image/png": "[encoded data removed]",
      "text/plain": [
       "<Figure size 1296x720 with 8 Axes>"
      ]
     },
     "metadata": {
      "needs_background": "light"
     },
     "output_type": "display_data"
    }
   ],
   "source": [
    "f,axes = plt.subplots(2,4,figsize=(18,10))\n",
    "plt.xticks(rotation=90)\n",
    "sns.countplot(x=train_data['engine-location'],ax=axes[0,0])\n",
    "sns.countplot(x=train_data['drive-wheels'],ax=axes[0,1])\n",
    "sns.countplot(x=train_data['num-of-doors'],ax=axes[0,2])\n",
    "sns.countplot(x=train_data['engine-type'],ax=axes[0,3])\n",
    "plt.xticks(rotation=90)\n",
    "sns.countplot(x=train_data['num-of-cylinders'],ax=axes[1,0])\n",
    "plt.xticks(rotation=90)\n",
    "sns.countplot(x=train_data['fuel-system'],ax=axes[1,1])\n",
    "sns.countplot(x=train_data['aspiration'],ax=axes[1,2])\n",
    "sns.countplot(x=train_data['body-style'],ax=axes[1,3])"
   ]
  },
  {
   "cell_type": "markdown",
   "id": "6ab6cc68",
   "metadata": {},
   "source": [
    "#### Inference"
   ]
  },
  {
   "cell_type": "raw",
   "id": "2d9d29da",
   "metadata": {},
   "source": [
    "1 - Dataset has majorly Front wheel cars with majorly 4 Cylinders\n",
    "2 - Std Aspiration is majorly in the dataset\n",
    "3 - Ohc is the majorly Engine type in the system\n",
    "4 - Four Doors are more compared to two doors and same with drive wheels\n",
    "5 - Sedan is highest followed by hatchback"
   ]
  },
  {
   "cell_type": "markdown",
   "id": "5b55bd83",
   "metadata": {},
   "source": [
    "#### Lets find out Relationship of Categorical Variable with Target Variable"
   ]
  },
  {
   "cell_type": "code",
   "execution_count": 48,
   "id": "1a36dc91",
   "metadata": {},
   "outputs": [
    {
     "data": {
      "image/png": "[encoded data removed]",
      "text/plain": [
       "<Figure size 1296x720 with 8 Axes>"
      ]
     },
     "metadata": {
      "needs_background": "light"
     },
     "output_type": "display_data"
    }
   ],
   "source": [
    "f,axes = plt.subplots(2,4,figsize=(18,10))\n",
    "plt.xticks(rotation=90)\n",
    "sns.boxplot(x=train_data['engine-location'],y=train_data['price'],ax=axes[0,0])\n",
    "sns.boxplot(x=train_data['drive-wheels'],y=train_data['price'],ax=axes[0,1])\n",
    "sns.boxplot(x=train_data['num-of-doors'],y=train_data['price'],ax=axes[0,2])\n",
    "sns.boxplot(x=train_data['engine-type'],y=train_data['price'],ax=axes[0,3])\n",
    "sns.boxplot(x=train_data['num-of-cylinders'],y=train_data['price'],ax=axes[1,0])\n",
    "sns.boxplot(x=train_data['fuel-system'],y=train_data['price'],ax=axes[1,1])\n",
    "sns.boxplot(x=train_data['aspiration'],y=train_data['price'],ax=axes[1,2])\n",
    "sns.boxplot(x=train_data['body-style'],y=train_data['price'],ax=axes[1,3]);"
   ]
  },
  {
   "cell_type": "markdown",
   "id": "e2ed0c27",
   "metadata": {},
   "source": [
    "#### Inference"
   ]
  },
  {
   "cell_type": "raw",
   "id": "810cadc1",
   "metadata": {},
   "source": [
    "1 - Price of Rear engine location are more as compared to Front Location\n",
    "2 - Fwd Drive Wheels price range is comparatively less with rwd drive wheels\n",
    "3 - Price of Number of Doors are almost same in both the cases\n",
    "4 - Price Increases with range in number of cylinders\n",
    "5 - Turbo Aspiration Price Range is comparatively higher as compared to std Aspiration\n",
    "6 - Price for Hatchback is the lowest followed by Hatchback"
   ]
  },
  {
   "cell_type": "markdown",
   "id": "41f83bb9",
   "metadata": {},
   "source": [
    "#### Lets find out What is the distribution of the Engine type with the respect to Price"
   ]
  },
  {
   "cell_type": "code",
   "execution_count": 49,
   "id": "c3290ad5",
   "metadata": {},
   "outputs": [
    {
     "data": {
      "text/plain": [
       "<AxesSubplot:xlabel='fuel-type', ylabel='price'>"
      ]
     },
     "execution_count": 49,
     "metadata": {},
     "output_type": "execute_result"
    },
    {
     "data": {
      "image/png": "[encoded data removed]",
      "text/plain": [
       "<Figure size 432x288 with 1 Axes>"
      ]
     },
     "metadata": {
      "needs_background": "light"
     },
     "output_type": "display_data"
    }
   ],
   "source": [
    "sns.boxplot(y=train_data['price'],x=train_data['fuel-type'])"
   ]
  },
  {
   "cell_type": "markdown",
   "id": "5d63c11d",
   "metadata": {},
   "source": [
    "#### Inference"
   ]
  },
  {
   "cell_type": "raw",
   "id": "8cf5d340",
   "metadata": {},
   "source": [
    "Cars with Diesel Price is comparatively higher with respect to gas."
   ]
  },
  {
   "cell_type": "code",
   "execution_count": 50,
   "id": "3c900737",
   "metadata": {},
   "outputs": [
    {
     "data": {
      "text/plain": [
       "Index(['ID', 'symboling', 'normalized-losses', 'make', 'fuel-type',\n",
       "       'aspiration', 'num-of-doors', 'body-style', 'drive-wheels',\n",
       "       'engine-location', 'wheel-base', 'length', 'width', 'height',\n",
       "       'curb-weight', 'engine-type', 'num-of-cylinders', 'engine-size',\n",
       "       'fuel-system', 'bore', 'stroke', 'compression-ratio', 'horsepower',\n",
       "       'peak-rpm', 'city-mpg', 'highway-mpg', 'price'],\n",
       "      dtype='object')"
      ]
     },
     "execution_count": 50,
     "metadata": {},
     "output_type": "execute_result"
    }
   ],
   "source": [
    "train_data.columns"
   ]
  },
  {
   "cell_type": "markdown",
   "id": "8ca5492c",
   "metadata": {},
   "source": [
    "#### Lets find What is the coorelation of Price with Respect to other Variables"
   ]
  },
  {
   "cell_type": "code",
   "execution_count": 51,
   "id": "15926da2",
   "metadata": {},
   "outputs": [
    {
     "data": {
      "image/png": "[encoded data removed]",
      "text/plain": [
       "<Figure size 432x288 with 1 Axes>"
      ]
     },
     "metadata": {
      "needs_background": "light"
     },
     "output_type": "display_data"
    }
   ],
   "source": [
    "train_data.corr()['price'].plot(kind='barh');"
   ]
  },
  {
   "cell_type": "markdown",
   "id": "dc136621",
   "metadata": {},
   "source": [
    "### Bivariate Analysis"
   ]
  },
  {
   "cell_type": "markdown",
   "id": "f7fc6fdf",
   "metadata": {},
   "source": [
    "### Brand Category - Mileage"
   ]
  },
  {
   "cell_type": "raw",
   "id": "621e7a57",
   "metadata": {},
   "source": [
    "It is expected that luxury brands don't care about mileage. Let's find out how price varies with brand category and mileage."
   ]
  },
  {
   "cell_type": "raw",
   "id": "29a25774",
   "metadata": {},
   "source": [
    "train_comp_avg_price"
   ]
  },
  {
   "cell_type": "code",
   "execution_count": 52,
   "id": "a7dd6cf7",
   "metadata": {},
   "outputs": [],
   "source": [
    "train_data = train_data.merge(train_comp_avg_price, on = 'make')"
   ]
  },
  {
   "cell_type": "code",
   "execution_count": 53,
   "id": "b111b6b3",
   "metadata": {},
   "outputs": [],
   "source": [
    "train_data['make_category'] = train_data['make_avg_price'].apply(lambda x : \"Budget\" if x < 10000 \n",
    "                                                     else (\"Mid_Range\" if 10000 <= x < 20000\n",
    "                                                           else \"Luxury\"))"
   ]
  },
  {
   "cell_type": "markdown",
   "id": "57ed2ccb",
   "metadata": {},
   "source": [
    "#### Inference"
   ]
  },
  {
   "cell_type": "raw",
   "id": "3695216f",
   "metadata": {},
   "source": [
    "Toyota has considerably high no of models in the market.\n",
    "Brands can be categorised as Luxury, Mid Ranged, Budget based on their average price."
   ]
  },
  {
   "cell_type": "raw",
   "id": "0b5a4186",
   "metadata": {},
   "source": [
    "A single variable mileage can be calculated taking the weighted average of 55% city and 45% highways."
   ]
  },
  {
   "cell_type": "code",
   "execution_count": 54,
   "id": "93236ff2",
   "metadata": {},
   "outputs": [],
   "source": [
    "train_data['mileage'] = train_data['city-mpg']*0.55 + train_data['highway-mpg']*0.45"
   ]
  },
  {
   "cell_type": "code",
   "execution_count": 55,
   "id": "e1ba4108",
   "metadata": {},
   "outputs": [
    {
     "data": {
      "image/png": "[encoded data removed]",
      "text/plain": [
       "<Figure size 432x288 with 1 Axes>"
      ]
     },
     "metadata": {
      "needs_background": "light"
     },
     "output_type": "display_data"
    }
   ],
   "source": [
    "plt1 = sns.scatterplot(x = 'mileage', y = 'price', hue = 'make_category', data = train_data)\n",
    "plt1.set_xlabel('Mileage')\n",
    "plt1.set_ylabel('Price of Car (Dollars)')\n",
    "plt.show()"
   ]
  },
  {
   "cell_type": "markdown",
   "id": "f5240d37",
   "metadata": {},
   "source": [
    "### Make Category - Horsepower"
   ]
  },
  {
   "cell_type": "code",
   "execution_count": 56,
   "id": "eb0b763d",
   "metadata": {},
   "outputs": [
    {
     "data": {
      "image/png": "[encoded data removed]",
      "text/plain": [
       "<Figure size 432x288 with 1 Axes>"
      ]
     },
     "metadata": {
      "needs_background": "light"
     },
     "output_type": "display_data"
    }
   ],
   "source": [
    "plt1 = sns.scatterplot(x = 'horsepower', y = 'price', hue = 'make_category', data = train_data)\n",
    "plt1.set_xlabel('Horsepower')\n",
    "plt1.set_ylabel('Price of Car (Dollars)')\n",
    "plt.show()"
   ]
  },
  {
   "cell_type": "markdown",
   "id": "6877c6ba",
   "metadata": {},
   "source": [
    "### Mileage - Fuel Type"
   ]
  },
  {
   "cell_type": "code",
   "execution_count": 57,
   "id": "9e4c7b20",
   "metadata": {},
   "outputs": [
    {
     "data": {
      "image/png": "[encoded data removed]",
      "text/plain": [
       "<Figure size 432x288 with 1 Axes>"
      ]
     },
     "metadata": {
      "needs_background": "light"
     },
     "output_type": "display_data"
    }
   ],
   "source": [
    "plt1 = sns.scatterplot(x = 'mileage', y = 'price', hue = 'fuel-type', data = train_data)\n",
    "plt1.set_xlabel('Mileage')\n",
    "plt1.set_ylabel('Price of Car (Dollars)')\n",
    "plt.show()"
   ]
  },
  {
   "cell_type": "markdown",
   "id": "75dbae6d",
   "metadata": {},
   "source": [
    "### Horsepower - Fuel Type"
   ]
  },
  {
   "cell_type": "code",
   "execution_count": 58,
   "id": "3236dfa4",
   "metadata": {},
   "outputs": [
    {
     "data": {
      "image/png": "[encoded data removed]",
      "text/plain": [
       "<Figure size 432x288 with 1 Axes>"
      ]
     },
     "metadata": {
      "needs_background": "light"
     },
     "output_type": "display_data"
    }
   ],
   "source": [
    "plt1 = sns.scatterplot(x = 'horsepower', y = 'price', hue = 'fuel-type', data = train_data)\n",
    "plt1.set_xlabel('Horsepower')\n",
    "plt1.set_ylabel('Price of Car (Dollars)')\n",
    "plt.show()"
   ]
  },
  {
   "cell_type": "markdown",
   "id": "18500f69",
   "metadata": {},
   "source": [
    "### Summary Univariate and Bivriate Analysis:"
   ]
  },
  {
   "cell_type": "raw",
   "id": "3c61d603",
   "metadata": {},
   "source": [
    "From the above Univariate and bivariate analysis we can filter out variables which does not affect price much.\n",
    "\n",
    "The most important driver variable for prediction of price are:-\n",
    "\n",
    "    1-Make Catagory\n",
    "    2-Fuel Type\n",
    "    3-Aspiration\n",
    "    4-Car Body\n",
    "    5-Drive Wheel\n",
    "    6-Wheelbase\n",
    "    7-Car Length\n",
    "    8-Car Width\n",
    "    9-Curb weight\n",
    "    10-Engine Type\n",
    "    11-Cylinder Number\n",
    "    12-Engine Size\n",
    "    13-Bore Ratio\n",
    "    14-Horsepower\n",
    "    15-Mileage"
   ]
  },
  {
   "cell_type": "markdown",
   "id": "f76e8642",
   "metadata": {},
   "source": [
    "### Converting the Categorical Variables into Numerical Variable"
   ]
  },
  {
   "cell_type": "code",
   "execution_count": 59,
   "id": "cb7b6e9a",
   "metadata": {},
   "outputs": [],
   "source": [
    "train_data2 = train_data1.copy()"
   ]
  },
  {
   "cell_type": "code",
   "execution_count": 60,
   "id": "f1dba9e7",
   "metadata": {},
   "outputs": [],
   "source": [
    "train_data2.drop(['ID'],axis=1, inplace=True) # Droping the ID"
   ]
  },
  {
   "cell_type": "code",
   "execution_count": 61,
   "id": "6b97f075",
   "metadata": {},
   "outputs": [],
   "source": [
    "train_data2 = pd.get_dummies(train_data2,drop_first=True)"
   ]
  },
  {
   "cell_type": "code",
   "execution_count": 62,
   "id": "6a19c0bd",
   "metadata": {},
   "outputs": [
    {
     "data": {
      "text/plain": [
       "False"
      ]
     },
     "execution_count": 62,
     "metadata": {},
     "output_type": "execute_result"
    }
   ],
   "source": [
    "train_data2.isnull().sum().any()"
   ]
  },
  {
   "cell_type": "markdown",
   "id": "c7714aa9",
   "metadata": {},
   "source": [
    "### Dividing the Data in to X and Y variable"
   ]
  },
  {
   "cell_type": "code",
   "execution_count": 63,
   "id": "1e8d0848",
   "metadata": {},
   "outputs": [
    {
     "name": "stdout",
     "output_type": "stream",
     "text": [
      "(181, 63)\n"
     ]
    }
   ],
   "source": [
    "X = train_data2.drop('price',axis=1)\n",
    "print(X.shape)"
   ]
  },
  {
   "cell_type": "code",
   "execution_count": 64,
   "id": "30714456",
   "metadata": {},
   "outputs": [
    {
     "name": "stdout",
     "output_type": "stream",
     "text": [
      "(181,)\n"
     ]
    }
   ],
   "source": [
    "y = train_data2['price']\n",
    "print(y.shape)"
   ]
  },
  {
   "cell_type": "code",
   "execution_count": 65,
   "id": "a2aecc1b",
   "metadata": {},
   "outputs": [
    {
     "name": "stdout",
     "output_type": "stream",
     "text": [
      "              feature          VIF\n",
      "0           symboling     7.716481\n",
      "1   normalized-losses     3.862617\n",
      "2          wheel-base    24.973881\n",
      "3              length    29.360059\n",
      "4               width    16.569825\n",
      "..                ...          ...\n",
      "58    fuel-system_idi  2484.526962\n",
      "59    fuel-system_mfi     2.463171\n",
      "60   fuel-system_mpfi    38.368175\n",
      "61   fuel-system_spdi    10.366131\n",
      "62   fuel-system_spfi     3.217709\n",
      "\n",
      "[63 rows x 2 columns]\n"
     ]
    }
   ],
   "source": [
    "from statsmodels.stats.outliers_influence import variance_inflation_factor\n",
    "vif_data = pd.DataFrame()\n",
    "vif_data[\"feature\"] = X.columns\n",
    "# calculating VIF for each feature\n",
    "vif_data[\"VIF\"] = [variance_inflation_factor(X.values, i)\n",
    "                          for i in range(len(X.columns))]\n",
    "print(vif_data)"
   ]
  },
  {
   "cell_type": "markdown",
   "id": "4e323093",
   "metadata": {},
   "source": [
    "### Since Most of the Data is normally distributed hence using the Standard Scaler"
   ]
  },
  {
   "cell_type": "code",
   "execution_count": 66,
   "id": "3b09e70a",
   "metadata": {},
   "outputs": [],
   "source": [
    "from sklearn.preprocessing import StandardScaler"
   ]
  },
  {
   "cell_type": "code",
   "execution_count": 67,
   "id": "22d9d956",
   "metadata": {},
   "outputs": [],
   "source": [
    "SS = StandardScaler()"
   ]
  },
  {
   "cell_type": "code",
   "execution_count": 68,
   "id": "f5de1d9c",
   "metadata": {},
   "outputs": [],
   "source": [
    "X[X.columns] = SS.fit_transform(X)"
   ]
  },
  {
   "cell_type": "code",
   "execution_count": 69,
   "id": "fc83c8d7",
   "metadata": {},
   "outputs": [
    {
     "data": {
      "text/html": [
       "<div>\n",
       "<style scoped>\n",
       "    .dataframe tbody tr th:only-of-type {\n",
       "        vertical-align: middle;\n",
       "    }\n",
       "\n",
       "    .dataframe tbody tr th {\n",
       "        vertical-align: top;\n",
       "    }\n",
       "\n",
       "    .dataframe thead th {\n",
       "        text-align: right;\n",
       "    }\n",
       "</style>\n",
       "<table border=\"1\" class=\"dataframe\">\n",
       "  <thead>\n",
       "    <tr style=\"text-align: right;\">\n",
       "      <th></th>\n",
       "      <th>symboling</th>\n",
       "      <th>normalized-losses</th>\n",
       "      <th>wheel-base</th>\n",
       "      <th>length</th>\n",
       "      <th>width</th>\n",
       "      <th>height</th>\n",
       "      <th>curb-weight</th>\n",
       "      <th>engine-size</th>\n",
       "      <th>bore</th>\n",
       "      <th>stroke</th>\n",
       "      <th>...</th>\n",
       "      <th>num-of-cylinders_three</th>\n",
       "      <th>num-of-cylinders_twelve</th>\n",
       "      <th>num-of-cylinders_two</th>\n",
       "      <th>fuel-system_2bbl</th>\n",
       "      <th>fuel-system_4bbl</th>\n",
       "      <th>fuel-system_idi</th>\n",
       "      <th>fuel-system_mfi</th>\n",
       "      <th>fuel-system_mpfi</th>\n",
       "      <th>fuel-system_spdi</th>\n",
       "      <th>fuel-system_spfi</th>\n",
       "    </tr>\n",
       "  </thead>\n",
       "  <tbody>\n",
       "    <tr>\n",
       "      <th>0</th>\n",
       "      <td>-1.464797</td>\n",
       "      <td>-1.772777</td>\n",
       "      <td>0.601828</td>\n",
       "      <td>0.115909</td>\n",
       "      <td>0.259957</td>\n",
       "      <td>0.076302</td>\n",
       "      <td>-0.203367</td>\n",
       "      <td>-0.138965</td>\n",
       "      <td>-0.110806</td>\n",
       "      <td>0.869079</td>\n",
       "      <td>...</td>\n",
       "      <td>-0.074536</td>\n",
       "      <td>-0.074536</td>\n",
       "      <td>-0.150329</td>\n",
       "      <td>-0.686691</td>\n",
       "      <td>-0.129823</td>\n",
       "      <td>-0.332309</td>\n",
       "      <td>-0.074536</td>\n",
       "      <td>1.111111</td>\n",
       "      <td>-0.228748</td>\n",
       "      <td>-0.074536</td>\n",
       "    </tr>\n",
       "    <tr>\n",
       "      <th>1</th>\n",
       "      <td>-0.673369</td>\n",
       "      <td>2.130485</td>\n",
       "      <td>0.405084</td>\n",
       "      <td>0.213451</td>\n",
       "      <td>-0.534370</td>\n",
       "      <td>0.236891</td>\n",
       "      <td>0.279354</td>\n",
       "      <td>0.850186</td>\n",
       "      <td>-0.110806</td>\n",
       "      <td>-0.276441</td>\n",
       "      <td>...</td>\n",
       "      <td>-0.074536</td>\n",
       "      <td>-0.074536</td>\n",
       "      <td>-0.150329</td>\n",
       "      <td>-0.686691</td>\n",
       "      <td>-0.129823</td>\n",
       "      <td>-0.332309</td>\n",
       "      <td>-0.074536</td>\n",
       "      <td>1.111111</td>\n",
       "      <td>-0.228748</td>\n",
       "      <td>-0.074536</td>\n",
       "    </tr>\n",
       "    <tr>\n",
       "      <th>2</th>\n",
       "      <td>-0.673369</td>\n",
       "      <td>0.000000</td>\n",
       "      <td>-0.431081</td>\n",
       "      <td>0.595489</td>\n",
       "      <td>0.259957</td>\n",
       "      <td>0.598217</td>\n",
       "      <td>0.028416</td>\n",
       "      <td>0.096547</td>\n",
       "      <td>0.462664</td>\n",
       "      <td>2.047329</td>\n",
       "      <td>...</td>\n",
       "      <td>-0.074536</td>\n",
       "      <td>-0.074536</td>\n",
       "      <td>-0.150329</td>\n",
       "      <td>-0.686691</td>\n",
       "      <td>-0.129823</td>\n",
       "      <td>-0.332309</td>\n",
       "      <td>-0.074536</td>\n",
       "      <td>1.111111</td>\n",
       "      <td>-0.228748</td>\n",
       "      <td>-0.074536</td>\n",
       "    </tr>\n",
       "    <tr>\n",
       "      <th>3</th>\n",
       "      <td>-0.673369</td>\n",
       "      <td>1.273671</td>\n",
       "      <td>1.503575</td>\n",
       "      <td>1.018169</td>\n",
       "      <td>1.147734</td>\n",
       "      <td>1.200428</td>\n",
       "      <td>1.212231</td>\n",
       "      <td>0.567571</td>\n",
       "      <td>1.380215</td>\n",
       "      <td>0.803621</td>\n",
       "      <td>...</td>\n",
       "      <td>-0.074536</td>\n",
       "      <td>-0.074536</td>\n",
       "      <td>-0.150329</td>\n",
       "      <td>-0.686691</td>\n",
       "      <td>-0.129823</td>\n",
       "      <td>3.009245</td>\n",
       "      <td>-0.074536</td>\n",
       "      <td>-0.900000</td>\n",
       "      <td>-0.228748</td>\n",
       "      <td>-0.074536</td>\n",
       "    </tr>\n",
       "    <tr>\n",
       "      <th>4</th>\n",
       "      <td>-2.256224</td>\n",
       "      <td>-0.566892</td>\n",
       "      <td>0.913341</td>\n",
       "      <td>1.188867</td>\n",
       "      <td>0.587032</td>\n",
       "      <td>0.999691</td>\n",
       "      <td>0.710355</td>\n",
       "      <td>0.308508</td>\n",
       "      <td>1.686065</td>\n",
       "      <td>-0.407358</td>\n",
       "      <td>...</td>\n",
       "      <td>-0.074536</td>\n",
       "      <td>-0.074536</td>\n",
       "      <td>-0.150329</td>\n",
       "      <td>-0.686691</td>\n",
       "      <td>-0.129823</td>\n",
       "      <td>-0.332309</td>\n",
       "      <td>-0.074536</td>\n",
       "      <td>1.111111</td>\n",
       "      <td>-0.228748</td>\n",
       "      <td>-0.074536</td>\n",
       "    </tr>\n",
       "  </tbody>\n",
       "</table>\n",
       "<p>5 rows × 63 columns</p>\n",
       "</div>"
      ],
      "text/plain": [
       "   symboling  normalized-losses  wheel-base    length     width    height  \\\n",
       "0  -1.464797          -1.772777    0.601828  0.115909  0.259957  0.076302   \n",
       "1  -0.673369           2.130485    0.405084  0.213451 -0.534370  0.236891   \n",
       "2  -0.673369           0.000000   -0.431081  0.595489  0.259957  0.598217   \n",
       "3  -0.673369           1.273671    1.503575  1.018169  1.147734  1.200428   \n",
       "4  -2.256224          -0.566892    0.913341  1.188867  0.587032  0.999691   \n",
       "\n",
       "   curb-weight  engine-size      bore    stroke  ...  num-of-cylinders_three  \\\n",
       "0    -0.203367    -0.138965 -0.110806  0.869079  ...               -0.074536   \n",
       "1     0.279354     0.850186 -0.110806 -0.276441  ...               -0.074536   \n",
       "2     0.028416     0.096547  0.462664  2.047329  ...               -0.074536   \n",
       "3     1.212231     0.567571  1.380215  0.803621  ...               -0.074536   \n",
       "4     0.710355     0.308508  1.686065 -0.407358  ...               -0.074536   \n",
       "\n",
       "   num-of-cylinders_twelve  num-of-cylinders_two  fuel-system_2bbl  \\\n",
       "0                -0.074536             -0.150329         -0.686691   \n",
       "1                -0.074536             -0.150329         -0.686691   \n",
       "2                -0.074536             -0.150329         -0.686691   \n",
       "3                -0.074536             -0.150329         -0.686691   \n",
       "4                -0.074536             -0.150329         -0.686691   \n",
       "\n",
       "   fuel-system_4bbl  fuel-system_idi  fuel-system_mfi  fuel-system_mpfi  \\\n",
       "0         -0.129823        -0.332309        -0.074536          1.111111   \n",
       "1         -0.129823        -0.332309        -0.074536          1.111111   \n",
       "2         -0.129823        -0.332309        -0.074536          1.111111   \n",
       "3         -0.129823         3.009245        -0.074536         -0.900000   \n",
       "4         -0.129823        -0.332309        -0.074536          1.111111   \n",
       "\n",
       "   fuel-system_spdi  fuel-system_spfi  \n",
       "0         -0.228748         -0.074536  \n",
       "1         -0.228748         -0.074536  \n",
       "2         -0.228748         -0.074536  \n",
       "3         -0.228748         -0.074536  \n",
       "4         -0.228748         -0.074536  \n",
       "\n",
       "[5 rows x 63 columns]"
      ]
     },
     "execution_count": 69,
     "metadata": {},
     "output_type": "execute_result"
    }
   ],
   "source": [
    "X.head()"
   ]
  },
  {
   "cell_type": "markdown",
   "id": "dcea6d56",
   "metadata": {},
   "source": [
    "### Linear Regression Model Building"
   ]
  },
  {
   "cell_type": "code",
   "execution_count": 70,
   "id": "6df76b9a",
   "metadata": {},
   "outputs": [],
   "source": [
    "from sklearn.linear_model import LinearRegression"
   ]
  },
  {
   "cell_type": "code",
   "execution_count": 71,
   "id": "16b0d725",
   "metadata": {},
   "outputs": [],
   "source": [
    "LR = LinearRegression()"
   ]
  },
  {
   "cell_type": "code",
   "execution_count": 72,
   "id": "30a5b29e",
   "metadata": {},
   "outputs": [
    {
     "data": {
      "text/plain": [
       "LinearRegression()"
      ]
     },
     "execution_count": 72,
     "metadata": {},
     "output_type": "execute_result"
    }
   ],
   "source": [
    "LR.fit(X,y)"
   ]
  },
  {
   "cell_type": "code",
   "execution_count": 73,
   "id": "695cbbef",
   "metadata": {},
   "outputs": [],
   "source": [
    "Pred_Values = LR.predict(X)"
   ]
  },
  {
   "cell_type": "code",
   "execution_count": 74,
   "id": "6de674cc",
   "metadata": {},
   "outputs": [
    {
     "data": {
      "text/plain": [
       "array([10071.66063589, 23390.63255388,  9218.31992808, 16550.31107235,\n",
       "       16245.05871446,  9166.87082386, 33814.48100543, 33426.13062438,\n",
       "        9465.25294366,  9166.41980561,  7280.59219462,  9657.03393282,\n",
       "       12029.02297128, 12230.62293137, 17932.70645903, 11633.10671043,\n",
       "        7294.67163059, 29956.24588975,  8975.62972557,  4721.27046463,\n",
       "       17954.49567933, 27927.81456049, 16763.82216394, 15645.        ,\n",
       "        6758.55504857, 12927.82915317, 19003.8731908 ,  9123.79834384,\n",
       "       15700.993539  , 35881.51120205,  7846.45823072,  8484.62337857,\n",
       "        6007.7966273 , 18003.97589477, 16079.86100786,  8822.95603622,\n",
       "       25249.57989865, 16503.        , 16042.05226489, 12964.        ,\n",
       "        7094.64705509,  9740.5141871 , 15480.85362858,  8827.59390468,\n",
       "       13871.64198303,  7182.24049786,  9530.85386679, 10273.3256749 ,\n",
       "        6941.20943607, 35044.59683301, 10784.13883882, 16922.59681615,\n",
       "       10940.50731232, 12133.5919075 , 12133.5919075 ,  6758.55504857,\n",
       "        7797.29543087,  8571.77133429,  7012.97438386, 13856.04717287,\n",
       "        8432.65841263, 10639.2391974 , 16926.77812476, 16418.5193173 ,\n",
       "       11038.64697346,  5151.        , 22125.45118902,  7324.32570942,\n",
       "       11048.        , 43731.08275001, 13890.27145037, 22615.01793598,\n",
       "       14075.00945669,  9770.48699396,  8851.11420939,  7377.50553849,\n",
       "        5910.26818844,  5334.56266591,  6301.78621448,  6781.6495412 ,\n",
       "        6089.89646911,  5943.62434786,  7328.89590808,  6129.35376446,\n",
       "       37064.36345869, 15797.58553439, 41984.55738879,  8853.46939407,\n",
       "        8022.85454715,  6383.84073674,  6265.10785655, 10523.70342957,\n",
       "       20166.48022408,  9575.38647021, 36000.        ,  5587.86139206,\n",
       "       13379.40598298, 12431.58043698, 19905.82725577,  8456.96486642,\n",
       "        7456.54619272,  8824.55176183, 11389.03712113,  7373.97275875,\n",
       "       27629.6833186 , 14111.31355358, 19962.95442817,  9255.77765823,\n",
       "        7030.17064865, 10967.88673432, 28062.25623116, 12167.81618499,\n",
       "        9377.73684569,  6959.01420738, 11382.1024551 , 14842.95840036,\n",
       "       12829.550741  ,  8736.2768707 ,  9975.8967835 , 20676.07015005,\n",
       "       17558.07713174,  8636.57711081, 10784.13883882,  5840.18505135,\n",
       "       12709.6202264 ,  5864.01623766, 16809.08319928, 18709.8401041 ,\n",
       "       16612.252809  ,  6692.90453578, 18484.70062116,  6563.86735393,\n",
       "        8825.45736888, 10965.10630356, 14542.53944998, 10662.68418043,\n",
       "        5991.98357561,  9971.68007192, 33426.13062438, 22018.        ,\n",
       "        6913.88746722, 11059.37706863, 16477.23397484,  6678.28980576,\n",
       "        7950.25501625, 16462.38021528,  7965.38594815, 15011.83383947,\n",
       "        7894.72229816, 19514.59158369, 16926.77812476, 12724.40598298,\n",
       "        5807.44905203, 36731.73875124, 11919.32164858, 33985.51899457,\n",
       "        7157.17099773,  6785.        ,  4834.12034973,  8707.35923846,\n",
       "        6012.24243295, 19053.06765055,  6774.48812772,  7147.19592437,\n",
       "       15133.11170841, 12855.27820342,  9328.63397119,  8191.89073508,\n",
       "       10973.64574225,  9142.90530444, 34002.84865915,  6088.3504588 ,\n",
       "       13410.48793554,  8312.63151596, 15754.9596825 ,  8210.82915863,\n",
       "       10523.70342957,  6209.2982523 ,  5696.64924252, 14842.95840036,\n",
       "       15804.86747548])"
      ]
     },
     "execution_count": 74,
     "metadata": {},
     "output_type": "execute_result"
    }
   ],
   "source": [
    "Pred_Values"
   ]
  },
  {
   "cell_type": "code",
   "execution_count": 75,
   "id": "a064cea7",
   "metadata": {},
   "outputs": [],
   "source": [
    "from sklearn.metrics import mean_squared_error,mean_absolute_error,r2_score"
   ]
  },
  {
   "cell_type": "code",
   "execution_count": 76,
   "id": "8792f089",
   "metadata": {},
   "outputs": [],
   "source": [
    "mse = mean_squared_error(y,Pred_Values)"
   ]
  },
  {
   "cell_type": "code",
   "execution_count": 77,
   "id": "90b3c384",
   "metadata": {},
   "outputs": [],
   "source": [
    "rmse = np.sqrt(mse)"
   ]
  },
  {
   "cell_type": "code",
   "execution_count": 78,
   "id": "c93cdb1f",
   "metadata": {},
   "outputs": [
    {
     "data": {
      "text/plain": [
       "1332.2612143127765"
      ]
     },
     "execution_count": 78,
     "metadata": {},
     "output_type": "execute_result"
    }
   ],
   "source": [
    "rmse"
   ]
  },
  {
   "cell_type": "markdown",
   "id": "bf51c40b",
   "metadata": {},
   "source": [
    "### Predicting the test model"
   ]
  },
  {
   "cell_type": "code",
   "execution_count": 79,
   "id": "2c505f92",
   "metadata": {},
   "outputs": [],
   "source": [
    "test_data1 = test_data.copy()"
   ]
  },
  {
   "cell_type": "code",
   "execution_count": 80,
   "id": "d96a6fb0",
   "metadata": {},
   "outputs": [
    {
     "data": {
      "text/plain": [
       "(20, 26)"
      ]
     },
     "execution_count": 80,
     "metadata": {},
     "output_type": "execute_result"
    }
   ],
   "source": [
    "test_data1.shape"
   ]
  },
  {
   "cell_type": "code",
   "execution_count": 81,
   "id": "1e370c57",
   "metadata": {},
   "outputs": [],
   "source": [
    "test_data1['normalized-losses']=test_data1['normalized-losses'].str.replace('?','NaN').astype('float')  "
   ]
  },
  {
   "cell_type": "code",
   "execution_count": 82,
   "id": "114093f1",
   "metadata": {},
   "outputs": [],
   "source": [
    "test_data1.fillna(test_data1['normalized-losses'].mean(), inplace=True)"
   ]
  },
  {
   "cell_type": "code",
   "execution_count": 83,
   "id": "373d9659",
   "metadata": {},
   "outputs": [],
   "source": [
    "test_data1 = pd.get_dummies(test_data1.drop(['ID'],axis=1), drop_first=True)"
   ]
  },
  {
   "cell_type": "code",
   "execution_count": 84,
   "id": "34de1de8",
   "metadata": {},
   "outputs": [
    {
     "data": {
      "text/plain": [
       "(20, 39)"
      ]
     },
     "execution_count": 84,
     "metadata": {},
     "output_type": "execute_result"
    }
   ],
   "source": [
    "test_data1.shape"
   ]
  },
  {
   "cell_type": "code",
   "execution_count": 85,
   "id": "e909b2cd",
   "metadata": {},
   "outputs": [],
   "source": [
    "missing_cols = set(X.columns) - set(test_data1.columns)"
   ]
  },
  {
   "cell_type": "code",
   "execution_count": 86,
   "id": "0179e238",
   "metadata": {},
   "outputs": [
    {
     "data": {
      "text/plain": [
       "{'body-style_hardtop',\n",
       " 'body-style_hatchback',\n",
       " 'engine-location_rear',\n",
       " 'engine-type_ohcf',\n",
       " 'engine-type_ohcv',\n",
       " 'engine-type_rotor',\n",
       " 'fuel-system_4bbl',\n",
       " 'fuel-system_mfi',\n",
       " 'fuel-system_spdi',\n",
       " 'fuel-system_spfi',\n",
       " 'make_audi',\n",
       " 'make_chevrolet',\n",
       " 'make_dodge',\n",
       " 'make_isuzu',\n",
       " 'make_jaguar',\n",
       " 'make_mercedes-benz',\n",
       " 'make_mercury',\n",
       " 'make_porsche',\n",
       " 'make_renault',\n",
       " 'make_subaru',\n",
       " 'num-of-cylinders_five',\n",
       " 'num-of-cylinders_three',\n",
       " 'num-of-cylinders_twelve',\n",
       " 'num-of-cylinders_two'}"
      ]
     },
     "execution_count": 86,
     "metadata": {},
     "output_type": "execute_result"
    }
   ],
   "source": [
    "missing_cols"
   ]
  },
  {
   "cell_type": "code",
   "execution_count": 87,
   "id": "97aeaadb",
   "metadata": {},
   "outputs": [],
   "source": [
    "for col in missing_cols:\n",
    "    test_data1[col] = 0\n",
    "    test_data1= test_data1[test_data1.columns]"
   ]
  },
  {
   "cell_type": "code",
   "execution_count": 88,
   "id": "6c0a283c",
   "metadata": {},
   "outputs": [],
   "source": [
    "test_data2 = test_data1[X.columns]"
   ]
  },
  {
   "cell_type": "code",
   "execution_count": 89,
   "id": "2e029e18",
   "metadata": {},
   "outputs": [],
   "source": [
    "test_data2[test_data2.columns] = SS.transform(test_data2)"
   ]
  },
  {
   "cell_type": "code",
   "execution_count": 90,
   "id": "f53449a5",
   "metadata": {},
   "outputs": [
    {
     "data": {
      "text/html": [
       "<div>\n",
       "<style scoped>\n",
       "    .dataframe tbody tr th:only-of-type {\n",
       "        vertical-align: middle;\n",
       "    }\n",
       "\n",
       "    .dataframe tbody tr th {\n",
       "        vertical-align: top;\n",
       "    }\n",
       "\n",
       "    .dataframe thead th {\n",
       "        text-align: right;\n",
       "    }\n",
       "</style>\n",
       "<table border=\"1\" class=\"dataframe\">\n",
       "  <thead>\n",
       "    <tr style=\"text-align: right;\">\n",
       "      <th></th>\n",
       "      <th>symboling</th>\n",
       "      <th>normalized-losses</th>\n",
       "      <th>wheel-base</th>\n",
       "      <th>length</th>\n",
       "      <th>width</th>\n",
       "      <th>height</th>\n",
       "      <th>curb-weight</th>\n",
       "      <th>engine-size</th>\n",
       "      <th>bore</th>\n",
       "      <th>stroke</th>\n",
       "      <th>...</th>\n",
       "      <th>num-of-cylinders_three</th>\n",
       "      <th>num-of-cylinders_twelve</th>\n",
       "      <th>num-of-cylinders_two</th>\n",
       "      <th>fuel-system_2bbl</th>\n",
       "      <th>fuel-system_4bbl</th>\n",
       "      <th>fuel-system_idi</th>\n",
       "      <th>fuel-system_mfi</th>\n",
       "      <th>fuel-system_mpfi</th>\n",
       "      <th>fuel-system_spdi</th>\n",
       "      <th>fuel-system_spfi</th>\n",
       "    </tr>\n",
       "  </thead>\n",
       "  <tbody>\n",
       "    <tr>\n",
       "      <th>0</th>\n",
       "      <td>-2.256224</td>\n",
       "      <td>-0.566892</td>\n",
       "      <td>0.913341</td>\n",
       "      <td>1.188867</td>\n",
       "      <td>0.587032</td>\n",
       "      <td>0.999691</td>\n",
       "      <td>0.666297</td>\n",
       "      <td>0.308508</td>\n",
       "      <td>1.686065</td>\n",
       "      <td>-0.407358</td>\n",
       "      <td>...</td>\n",
       "      <td>-0.074536</td>\n",
       "      <td>-0.074536</td>\n",
       "      <td>-0.150329</td>\n",
       "      <td>-0.686691</td>\n",
       "      <td>-0.129823</td>\n",
       "      <td>-0.332309</td>\n",
       "      <td>-0.074536</td>\n",
       "      <td>1.111111</td>\n",
       "      <td>-0.228748</td>\n",
       "      <td>-0.074536</td>\n",
       "    </tr>\n",
       "    <tr>\n",
       "      <th>1</th>\n",
       "      <td>-0.673369</td>\n",
       "      <td>2.130485</td>\n",
       "      <td>0.405084</td>\n",
       "      <td>0.213451</td>\n",
       "      <td>-0.534370</td>\n",
       "      <td>0.236891</td>\n",
       "      <td>0.384710</td>\n",
       "      <td>0.850186</td>\n",
       "      <td>-0.110806</td>\n",
       "      <td>-0.276441</td>\n",
       "      <td>...</td>\n",
       "      <td>-0.074536</td>\n",
       "      <td>-0.074536</td>\n",
       "      <td>-0.150329</td>\n",
       "      <td>-0.686691</td>\n",
       "      <td>-0.129823</td>\n",
       "      <td>-0.332309</td>\n",
       "      <td>-0.074536</td>\n",
       "      <td>1.111111</td>\n",
       "      <td>-0.228748</td>\n",
       "      <td>-0.074536</td>\n",
       "    </tr>\n",
       "    <tr>\n",
       "      <th>2</th>\n",
       "      <td>-1.464797</td>\n",
       "      <td>-1.487173</td>\n",
       "      <td>0.913341</td>\n",
       "      <td>1.188867</td>\n",
       "      <td>0.587032</td>\n",
       "      <td>1.521606</td>\n",
       "      <td>1.135609</td>\n",
       "      <td>0.049445</td>\n",
       "      <td>1.074364</td>\n",
       "      <td>-0.407358</td>\n",
       "      <td>...</td>\n",
       "      <td>-0.074536</td>\n",
       "      <td>-0.074536</td>\n",
       "      <td>-0.150329</td>\n",
       "      <td>-0.686691</td>\n",
       "      <td>-0.129823</td>\n",
       "      <td>-0.332309</td>\n",
       "      <td>-0.074536</td>\n",
       "      <td>1.111111</td>\n",
       "      <td>-0.228748</td>\n",
       "      <td>-0.074536</td>\n",
       "    </tr>\n",
       "    <tr>\n",
       "      <th>3</th>\n",
       "      <td>0.118058</td>\n",
       "      <td>1.051534</td>\n",
       "      <td>-0.824570</td>\n",
       "      <td>-0.558754</td>\n",
       "      <td>-1.001621</td>\n",
       "      <td>-1.168265</td>\n",
       "      <td>-1.101764</td>\n",
       "      <td>-0.892604</td>\n",
       "      <td>-1.410670</td>\n",
       "      <td>-0.145525</td>\n",
       "      <td>...</td>\n",
       "      <td>-0.074536</td>\n",
       "      <td>-0.074536</td>\n",
       "      <td>-0.150329</td>\n",
       "      <td>1.456259</td>\n",
       "      <td>-0.129823</td>\n",
       "      <td>-0.332309</td>\n",
       "      <td>-0.074536</td>\n",
       "      <td>-0.900000</td>\n",
       "      <td>-0.228748</td>\n",
       "      <td>-0.074536</td>\n",
       "    </tr>\n",
       "    <tr>\n",
       "      <th>4</th>\n",
       "      <td>0.118058</td>\n",
       "      <td>-0.566892</td>\n",
       "      <td>-0.693407</td>\n",
       "      <td>-0.323028</td>\n",
       "      <td>-1.001621</td>\n",
       "      <td>-0.084287</td>\n",
       "      <td>-1.009817</td>\n",
       "      <td>-0.727746</td>\n",
       "      <td>-0.722507</td>\n",
       "      <td>0.050850</td>\n",
       "      <td>...</td>\n",
       "      <td>-0.074536</td>\n",
       "      <td>-0.074536</td>\n",
       "      <td>-0.150329</td>\n",
       "      <td>1.456259</td>\n",
       "      <td>-0.129823</td>\n",
       "      <td>-0.332309</td>\n",
       "      <td>-0.074536</td>\n",
       "      <td>-0.900000</td>\n",
       "      <td>-0.228748</td>\n",
       "      <td>-0.074536</td>\n",
       "    </tr>\n",
       "  </tbody>\n",
       "</table>\n",
       "<p>5 rows × 63 columns</p>\n",
       "</div>"
      ],
      "text/plain": [
       "   symboling  normalized-losses  wheel-base    length     width    height  \\\n",
       "0  -2.256224          -0.566892    0.913341  1.188867  0.587032  0.999691   \n",
       "1  -0.673369           2.130485    0.405084  0.213451 -0.534370  0.236891   \n",
       "2  -1.464797          -1.487173    0.913341  1.188867  0.587032  1.521606   \n",
       "3   0.118058           1.051534   -0.824570 -0.558754 -1.001621 -1.168265   \n",
       "4   0.118058          -0.566892   -0.693407 -0.323028 -1.001621 -0.084287   \n",
       "\n",
       "   curb-weight  engine-size      bore    stroke  ...  num-of-cylinders_three  \\\n",
       "0     0.666297     0.308508  1.686065 -0.407358  ...               -0.074536   \n",
       "1     0.384710     0.850186 -0.110806 -0.276441  ...               -0.074536   \n",
       "2     1.135609     0.049445  1.074364 -0.407358  ...               -0.074536   \n",
       "3    -1.101764    -0.892604 -1.410670 -0.145525  ...               -0.074536   \n",
       "4    -1.009817    -0.727746 -0.722507  0.050850  ...               -0.074536   \n",
       "\n",
       "   num-of-cylinders_twelve  num-of-cylinders_two  fuel-system_2bbl  \\\n",
       "0                -0.074536             -0.150329         -0.686691   \n",
       "1                -0.074536             -0.150329         -0.686691   \n",
       "2                -0.074536             -0.150329         -0.686691   \n",
       "3                -0.074536             -0.150329          1.456259   \n",
       "4                -0.074536             -0.150329          1.456259   \n",
       "\n",
       "   fuel-system_4bbl  fuel-system_idi  fuel-system_mfi  fuel-system_mpfi  \\\n",
       "0         -0.129823        -0.332309        -0.074536          1.111111   \n",
       "1         -0.129823        -0.332309        -0.074536          1.111111   \n",
       "2         -0.129823        -0.332309        -0.074536          1.111111   \n",
       "3         -0.129823        -0.332309        -0.074536         -0.900000   \n",
       "4         -0.129823        -0.332309        -0.074536         -0.900000   \n",
       "\n",
       "   fuel-system_spdi  fuel-system_spfi  \n",
       "0         -0.228748         -0.074536  \n",
       "1         -0.228748         -0.074536  \n",
       "2         -0.228748         -0.074536  \n",
       "3         -0.228748         -0.074536  \n",
       "4         -0.228748         -0.074536  \n",
       "\n",
       "[5 rows x 63 columns]"
      ]
     },
     "execution_count": 90,
     "metadata": {},
     "output_type": "execute_result"
    }
   ],
   "source": [
    "test_data2.head()"
   ]
  },
  {
   "cell_type": "code",
   "execution_count": 91,
   "id": "542a7e81",
   "metadata": {},
   "outputs": [],
   "source": [
    "Idvalues = pd.DataFrame(test_data['ID'])"
   ]
  },
  {
   "cell_type": "code",
   "execution_count": 92,
   "id": "ff6e5910",
   "metadata": {},
   "outputs": [],
   "source": [
    "predvalues = pd.DataFrame(LR.predict(test_data2))"
   ]
  },
  {
   "cell_type": "code",
   "execution_count": 93,
   "id": "a0941fe7",
   "metadata": {},
   "outputs": [
    {
     "data": {
      "text/html": [
       "<div>\n",
       "<style scoped>\n",
       "    .dataframe tbody tr th:only-of-type {\n",
       "        vertical-align: middle;\n",
       "    }\n",
       "\n",
       "    .dataframe tbody tr th {\n",
       "        vertical-align: top;\n",
       "    }\n",
       "\n",
       "    .dataframe thead th {\n",
       "        text-align: right;\n",
       "    }\n",
       "</style>\n",
       "<table border=\"1\" class=\"dataframe\">\n",
       "  <thead>\n",
       "    <tr style=\"text-align: right;\">\n",
       "      <th></th>\n",
       "      <th>0</th>\n",
       "    </tr>\n",
       "  </thead>\n",
       "  <tbody>\n",
       "    <tr>\n",
       "      <th>0</th>\n",
       "      <td>16196.352025</td>\n",
       "    </tr>\n",
       "    <tr>\n",
       "      <th>1</th>\n",
       "      <td>23665.338070</td>\n",
       "    </tr>\n",
       "    <tr>\n",
       "      <th>2</th>\n",
       "      <td>18494.032293</td>\n",
       "    </tr>\n",
       "    <tr>\n",
       "      <th>3</th>\n",
       "      <td>5338.791146</td>\n",
       "    </tr>\n",
       "    <tr>\n",
       "      <th>4</th>\n",
       "      <td>5999.251310</td>\n",
       "    </tr>\n",
       "    <tr>\n",
       "      <th>5</th>\n",
       "      <td>9800.993022</td>\n",
       "    </tr>\n",
       "    <tr>\n",
       "      <th>6</th>\n",
       "      <td>12666.244711</td>\n",
       "    </tr>\n",
       "    <tr>\n",
       "      <th>7</th>\n",
       "      <td>12478.811151</td>\n",
       "    </tr>\n",
       "    <tr>\n",
       "      <th>8</th>\n",
       "      <td>12196.438159</td>\n",
       "    </tr>\n",
       "    <tr>\n",
       "      <th>9</th>\n",
       "      <td>10138.085753</td>\n",
       "    </tr>\n",
       "    <tr>\n",
       "      <th>10</th>\n",
       "      <td>35635.353508</td>\n",
       "    </tr>\n",
       "    <tr>\n",
       "      <th>11</th>\n",
       "      <td>5786.362202</td>\n",
       "    </tr>\n",
       "    <tr>\n",
       "      <th>12</th>\n",
       "      <td>10802.705790</td>\n",
       "    </tr>\n",
       "    <tr>\n",
       "      <th>13</th>\n",
       "      <td>10210.403323</td>\n",
       "    </tr>\n",
       "    <tr>\n",
       "      <th>14</th>\n",
       "      <td>1936.408920</td>\n",
       "    </tr>\n",
       "    <tr>\n",
       "      <th>15</th>\n",
       "      <td>33020.910916</td>\n",
       "    </tr>\n",
       "    <tr>\n",
       "      <th>16</th>\n",
       "      <td>12612.687443</td>\n",
       "    </tr>\n",
       "    <tr>\n",
       "      <th>17</th>\n",
       "      <td>16625.891604</td>\n",
       "    </tr>\n",
       "    <tr>\n",
       "      <th>18</th>\n",
       "      <td>19056.822164</td>\n",
       "    </tr>\n",
       "    <tr>\n",
       "      <th>19</th>\n",
       "      <td>6190.926058</td>\n",
       "    </tr>\n",
       "  </tbody>\n",
       "</table>\n",
       "</div>"
      ],
      "text/plain": [
       "               0\n",
       "0   16196.352025\n",
       "1   23665.338070\n",
       "2   18494.032293\n",
       "3    5338.791146\n",
       "4    5999.251310\n",
       "5    9800.993022\n",
       "6   12666.244711\n",
       "7   12478.811151\n",
       "8   12196.438159\n",
       "9   10138.085753\n",
       "10  35635.353508\n",
       "11   5786.362202\n",
       "12  10802.705790\n",
       "13  10210.403323\n",
       "14   1936.408920\n",
       "15  33020.910916\n",
       "16  12612.687443\n",
       "17  16625.891604\n",
       "18  19056.822164\n",
       "19   6190.926058"
      ]
     },
     "execution_count": 93,
     "metadata": {},
     "output_type": "execute_result"
    }
   ],
   "source": [
    "predvalues"
   ]
  },
  {
   "cell_type": "code",
   "execution_count": 94,
   "id": "0edb4c85",
   "metadata": {},
   "outputs": [],
   "source": [
    "Idvalues['PredictedValues'] = predvalues"
   ]
  },
  {
   "cell_type": "code",
   "execution_count": 95,
   "id": "fb6f689c",
   "metadata": {},
   "outputs": [],
   "source": [
    "Idvalues.to_csv('submission.csv', index=False, header=False)"
   ]
  },
  {
   "cell_type": "code",
   "execution_count": null,
   "id": "c2c416e8",
   "metadata": {},
   "outputs": [],
   "source": []
  }
 ],
 "metadata": {
  "kernelspec": {
   "display_name": "Python 3 (ipykernel)",
   "language": "python",
   "name": "python3"
  },
  "language_info": {
   "codemirror_mode": {
    "name": "ipython",
    "version": 3
   },
   "file_extension": ".py",
   "mimetype": "text/x-python",
   "name": "python",
   "nbconvert_exporter": "python",
   "pygments_lexer": "ipython3",
   "version": "3.9.12"
  }
 },
 "nbformat": 4,
 "nbformat_minor": 5
}
